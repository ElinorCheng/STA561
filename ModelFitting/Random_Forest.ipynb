{
 "cells": [
  {
   "attachments": {},
   "cell_type": "markdown",
   "metadata": {},
   "source": [
    "# Random Forest Classifier"
   ]
  },
  {
   "cell_type": "code",
   "execution_count": 190,
   "metadata": {
    "collapsed": false,
    "pycharm": {
     "name": "#%%\n"
    }
   },
   "outputs": [
    {
     "data": {
      "text/html": [
       "<div>\n",
       "<style scoped>\n",
       "    .dataframe tbody tr th:only-of-type {\n",
       "        vertical-align: middle;\n",
       "    }\n",
       "\n",
       "    .dataframe tbody tr th {\n",
       "        vertical-align: top;\n",
       "    }\n",
       "\n",
       "    .dataframe thead th {\n",
       "        text-align: right;\n",
       "    }\n",
       "</style>\n",
       "<table border=\"1\" class=\"dataframe\">\n",
       "  <thead>\n",
       "    <tr style=\"text-align: right;\">\n",
       "      <th></th>\n",
       "      <th>SMA</th>\n",
       "      <th>EMA</th>\n",
       "      <th>STOCH_k</th>\n",
       "      <th>STOCK_d</th>\n",
       "      <th>RSI</th>\n",
       "      <th>MFI</th>\n",
       "      <th>SAR</th>\n",
       "      <th>AD</th>\n",
       "      <th>MACD</th>\n",
       "      <th>MACD_Signal</th>\n",
       "      <th>MACD_Histo</th>\n",
       "      <th>VWAP</th>\n",
       "      <th>SPY</th>\n",
       "      <th>NDAQ</th>\n",
       "    </tr>\n",
       "    <tr>\n",
       "      <th>Date</th>\n",
       "      <th></th>\n",
       "      <th></th>\n",
       "      <th></th>\n",
       "      <th></th>\n",
       "      <th></th>\n",
       "      <th></th>\n",
       "      <th></th>\n",
       "      <th></th>\n",
       "      <th></th>\n",
       "      <th></th>\n",
       "      <th></th>\n",
       "      <th></th>\n",
       "      <th></th>\n",
       "      <th></th>\n",
       "    </tr>\n",
       "  </thead>\n",
       "  <tbody>\n",
       "    <tr>\n",
       "      <th>2010-01-04</th>\n",
       "      <td>202.878000</td>\n",
       "      <td>205.345351</td>\n",
       "      <td>21392.872340</td>\n",
       "      <td>21204.475820</td>\n",
       "      <td>75.356618</td>\n",
       "      <td>80.785184</td>\n",
       "      <td>1.148300e+05</td>\n",
       "      <td>4.327271e+10</td>\n",
       "      <td>3.926500</td>\n",
       "      <td>2.148400</td>\n",
       "      <td>1.778100</td>\n",
       "      <td>135.320845</td>\n",
       "      <td>88.050132</td>\n",
       "      <td>5.597397</td>\n",
       "    </tr>\n",
       "    <tr>\n",
       "      <th>2010-01-05</th>\n",
       "      <td>204.120857</td>\n",
       "      <td>206.549971</td>\n",
       "      <td>21430.232615</td>\n",
       "      <td>21295.994172</td>\n",
       "      <td>74.035805</td>\n",
       "      <td>81.246629</td>\n",
       "      <td>1.171224e+05</td>\n",
       "      <td>4.451263e+10</td>\n",
       "      <td>4.287593</td>\n",
       "      <td>2.576239</td>\n",
       "      <td>1.711354</td>\n",
       "      <td>135.391125</td>\n",
       "      <td>88.283213</td>\n",
       "      <td>5.613990</td>\n",
       "    </tr>\n",
       "    <tr>\n",
       "      <th>2010-01-06</th>\n",
       "      <td>205.320857</td>\n",
       "      <td>207.139308</td>\n",
       "      <td>21089.232615</td>\n",
       "      <td>21304.112523</td>\n",
       "      <td>72.828568</td>\n",
       "      <td>79.144477</td>\n",
       "      <td>1.194605e+05</td>\n",
       "      <td>4.329049e+10</td>\n",
       "      <td>4.249616</td>\n",
       "      <td>2.910914</td>\n",
       "      <td>1.338702</td>\n",
       "      <td>135.453784</td>\n",
       "      <td>88.345367</td>\n",
       "      <td>5.611225</td>\n",
       "    </tr>\n",
       "    <tr>\n",
       "      <th>2010-01-07</th>\n",
       "      <td>206.431571</td>\n",
       "      <td>207.598067</td>\n",
       "      <td>21050.232615</td>\n",
       "      <td>21189.899282</td>\n",
       "      <td>71.403403</td>\n",
       "      <td>72.445029</td>\n",
       "      <td>1.218455e+05</td>\n",
       "      <td>4.206772e+10</td>\n",
       "      <td>4.140322</td>\n",
       "      <td>3.156796</td>\n",
       "      <td>0.983526</td>\n",
       "      <td>135.506599</td>\n",
       "      <td>88.718297</td>\n",
       "      <td>5.536556</td>\n",
       "    </tr>\n",
       "    <tr>\n",
       "      <th>2010-01-08</th>\n",
       "      <td>207.868714</td>\n",
       "      <td>208.182325</td>\n",
       "      <td>21189.622445</td>\n",
       "      <td>21109.695891</td>\n",
       "      <td>79.112166</td>\n",
       "      <td>78.095086</td>\n",
       "      <td>1.242783e+05</td>\n",
       "      <td>4.330626e+10</td>\n",
       "      <td>4.119191</td>\n",
       "      <td>3.349275</td>\n",
       "      <td>0.769916</td>\n",
       "      <td>135.556389</td>\n",
       "      <td>89.013532</td>\n",
       "      <td>5.594632</td>\n",
       "    </tr>\n",
       "    <tr>\n",
       "      <th>...</th>\n",
       "      <td>...</td>\n",
       "      <td>...</td>\n",
       "      <td>...</td>\n",
       "      <td>...</td>\n",
       "      <td>...</td>\n",
       "      <td>...</td>\n",
       "      <td>...</td>\n",
       "      <td>...</td>\n",
       "      <td>...</td>\n",
       "      <td>...</td>\n",
       "      <td>...</td>\n",
       "      <td>...</td>\n",
       "      <td>...</td>\n",
       "      <td>...</td>\n",
       "    </tr>\n",
       "    <tr>\n",
       "      <th>2020-01-27</th>\n",
       "      <td>312.660714</td>\n",
       "      <td>310.922870</td>\n",
       "      <td>30883.645013</td>\n",
       "      <td>31539.108233</td>\n",
       "      <td>59.513412</td>\n",
       "      <td>63.803522</td>\n",
       "      <td>6.836812e+26</td>\n",
       "      <td>3.970456e+11</td>\n",
       "      <td>9.595247</td>\n",
       "      <td>10.551674</td>\n",
       "      <td>-0.956427</td>\n",
       "      <td>195.714203</td>\n",
       "      <td>307.043805</td>\n",
       "      <td>34.929343</td>\n",
       "    </tr>\n",
       "    <tr>\n",
       "      <th>2020-01-28</th>\n",
       "      <td>314.039286</td>\n",
       "      <td>311.825154</td>\n",
       "      <td>31757.645013</td>\n",
       "      <td>31487.572259</td>\n",
       "      <td>67.412486</td>\n",
       "      <td>64.905487</td>\n",
       "      <td>6.973548e+26</td>\n",
       "      <td>4.005847e+11</td>\n",
       "      <td>9.322036</td>\n",
       "      <td>10.305746</td>\n",
       "      <td>-0.983710</td>\n",
       "      <td>195.764709</td>\n",
       "      <td>310.261359</td>\n",
       "      <td>35.362062</td>\n",
       "    </tr>\n",
       "    <tr>\n",
       "      <th>2020-01-29</th>\n",
       "      <td>315.550000</td>\n",
       "      <td>313.493800</td>\n",
       "      <td>32420.727035</td>\n",
       "      <td>31687.339021</td>\n",
       "      <td>68.465165</td>\n",
       "      <td>66.624864</td>\n",
       "      <td>7.113019e+26</td>\n",
       "      <td>4.041193e+11</td>\n",
       "      <td>9.532232</td>\n",
       "      <td>10.151043</td>\n",
       "      <td>-0.618811</td>\n",
       "      <td>195.836793</td>\n",
       "      <td>310.005094</td>\n",
       "      <td>36.698400</td>\n",
       "    </tr>\n",
       "    <tr>\n",
       "      <th>2020-01-30</th>\n",
       "      <td>316.567143</td>\n",
       "      <td>314.877293</td>\n",
       "      <td>32373.727035</td>\n",
       "      <td>32184.033028</td>\n",
       "      <td>63.879142</td>\n",
       "      <td>59.261361</td>\n",
       "      <td>7.255280e+26</td>\n",
       "      <td>4.005557e+11</td>\n",
       "      <td>9.550794</td>\n",
       "      <td>10.030993</td>\n",
       "      <td>-0.480200</td>\n",
       "      <td>195.878187</td>\n",
       "      <td>311.011172</td>\n",
       "      <td>36.895669</td>\n",
       "    </tr>\n",
       "    <tr>\n",
       "      <th>2020-01-31</th>\n",
       "      <td>316.508571</td>\n",
       "      <td>314.161654</td>\n",
       "      <td>30937.727035</td>\n",
       "      <td>31910.727035</td>\n",
       "      <td>49.368842</td>\n",
       "      <td>50.505747</td>\n",
       "      <td>7.400385e+26</td>\n",
       "      <td>3.970335e+11</td>\n",
       "      <td>8.310968</td>\n",
       "      <td>9.686988</td>\n",
       "      <td>-1.376020</td>\n",
       "      <td>195.938810</td>\n",
       "      <td>305.363844</td>\n",
       "      <td>37.054757</td>\n",
       "    </tr>\n",
       "  </tbody>\n",
       "</table>\n",
       "<p>2537 rows × 14 columns</p>\n",
       "</div>"
      ],
      "text/plain": [
       "                   SMA         EMA       STOCH_k       STOCK_d        RSI  \\\n",
       "Date                                                                        \n",
       "2010-01-04  202.878000  205.345351  21392.872340  21204.475820  75.356618   \n",
       "2010-01-05  204.120857  206.549971  21430.232615  21295.994172  74.035805   \n",
       "2010-01-06  205.320857  207.139308  21089.232615  21304.112523  72.828568   \n",
       "2010-01-07  206.431571  207.598067  21050.232615  21189.899282  71.403403   \n",
       "2010-01-08  207.868714  208.182325  21189.622445  21109.695891  79.112166   \n",
       "...                ...         ...           ...           ...        ...   \n",
       "2020-01-27  312.660714  310.922870  30883.645013  31539.108233  59.513412   \n",
       "2020-01-28  314.039286  311.825154  31757.645013  31487.572259  67.412486   \n",
       "2020-01-29  315.550000  313.493800  32420.727035  31687.339021  68.465165   \n",
       "2020-01-30  316.567143  314.877293  32373.727035  32184.033028  63.879142   \n",
       "2020-01-31  316.508571  314.161654  30937.727035  31910.727035  49.368842   \n",
       "\n",
       "                  MFI           SAR            AD      MACD  MACD_Signal  \\\n",
       "Date                                                                       \n",
       "2010-01-04  80.785184  1.148300e+05  4.327271e+10  3.926500     2.148400   \n",
       "2010-01-05  81.246629  1.171224e+05  4.451263e+10  4.287593     2.576239   \n",
       "2010-01-06  79.144477  1.194605e+05  4.329049e+10  4.249616     2.910914   \n",
       "2010-01-07  72.445029  1.218455e+05  4.206772e+10  4.140322     3.156796   \n",
       "2010-01-08  78.095086  1.242783e+05  4.330626e+10  4.119191     3.349275   \n",
       "...               ...           ...           ...       ...          ...   \n",
       "2020-01-27  63.803522  6.836812e+26  3.970456e+11  9.595247    10.551674   \n",
       "2020-01-28  64.905487  6.973548e+26  4.005847e+11  9.322036    10.305746   \n",
       "2020-01-29  66.624864  7.113019e+26  4.041193e+11  9.532232    10.151043   \n",
       "2020-01-30  59.261361  7.255280e+26  4.005557e+11  9.550794    10.030993   \n",
       "2020-01-31  50.505747  7.400385e+26  3.970335e+11  8.310968     9.686988   \n",
       "\n",
       "            MACD_Histo        VWAP         SPY       NDAQ  \n",
       "Date                                                       \n",
       "2010-01-04    1.778100  135.320845   88.050132   5.597397  \n",
       "2010-01-05    1.711354  135.391125   88.283213   5.613990  \n",
       "2010-01-06    1.338702  135.453784   88.345367   5.611225  \n",
       "2010-01-07    0.983526  135.506599   88.718297   5.536556  \n",
       "2010-01-08    0.769916  135.556389   89.013532   5.594632  \n",
       "...                ...         ...         ...        ...  \n",
       "2020-01-27   -0.956427  195.714203  307.043805  34.929343  \n",
       "2020-01-28   -0.983710  195.764709  310.261359  35.362062  \n",
       "2020-01-29   -0.618811  195.836793  310.005094  36.698400  \n",
       "2020-01-30   -0.480200  195.878187  311.011172  36.895669  \n",
       "2020-01-31   -1.376020  195.938810  305.363844  37.054757  \n",
       "\n",
       "[2537 rows x 14 columns]"
      ]
     },
     "execution_count": 190,
     "metadata": {},
     "output_type": "execute_result"
    }
   ],
   "source": [
    "import pandas as pd\n",
    "import numpy as np\n",
    "\n",
    "freq = 'Daily'\n",
    "stock = 'AAPL'\n",
    "price = pd.read_csv('../encode_price/'+freq+'/'+stock+'.csv')\n",
    "y = price.direction.shift(-1).values[:-1]\n",
    "predictors = pd.read_csv('../predictors/Tech/'+freq+'/'+stock+'.csv',index_col='Date')\n",
    "predictors.fillna(0,inplace=True)\n",
    "X = predictors.values[:-1]\n",
    "predictors"
   ]
  },
  {
   "cell_type": "code",
   "execution_count": 188,
   "metadata": {
    "collapsed": false,
    "pycharm": {
     "name": "#%%\n"
    }
   },
   "outputs": [
    {
     "name": "stdout",
     "output_type": "stream",
     "text": [
      "1.2.2\n"
     ]
    }
   ],
   "source": [
    "from sklearn.ensemble import RandomForestClassifier\n",
    "from sklearn.model_selection import train_test_split\n",
    "from sklearn.preprocessing import StandardScaler\n",
    "from sklearn.pipeline import make_pipeline\n",
    "from sklearn.metrics import confusion_matrix\n",
    "from sklearn.metrics import classification_report,zero_one_loss,recall_score\n",
    "import sklearn\n",
    "print(sklearn.__version__)\n",
    "from xgboost import XGBClassifier\n",
    "import xgboost as xgb\n",
    "from sklearn.datasets import make_classification\n",
    "from imblearn.over_sampling import SMOTE"
   ]
  },
  {
   "cell_type": "code",
   "execution_count": 14,
   "metadata": {
    "collapsed": false,
    "pycharm": {
     "name": "#%%\n"
    }
   },
   "outputs": [],
   "source": [
    "from matplotlib import pyplot as plt"
   ]
  },
  {
   "cell_type": "code",
   "execution_count": 15,
   "metadata": {
    "collapsed": false,
    "pycharm": {
     "name": "#%%\n"
    }
   },
   "outputs": [
    {
     "name": "stdout",
     "output_type": "stream",
     "text": [
      "              precision    recall  f1-score   support\n",
      "\n",
      "         0.0       0.49      0.54      0.51       354\n",
      "         1.0       0.56      0.51      0.53       407\n",
      "\n",
      "    accuracy                           0.52       761\n",
      "   macro avg       0.52      0.52      0.52       761\n",
      "weighted avg       0.53      0.52      0.52       761\n",
      "\n"
     ]
    }
   ],
   "source": [
    "X_train,X_test,y_train,y_test = train_test_split(X,y,test_size=0.3,shuffle=False)\n",
    "sm = SMOTE(sampling_strategy='minority',random_state=42,k_neighbors=5)\n",
    "X_res,y_res = sm.fit_resample(X_train,y_train)\n",
    "pipe = make_pipeline(StandardScaler(),RandomForestClassifier(criterion='log_loss'))\n",
    "pipe.fit(X_res,y_res)\n",
    "\n",
    "y_pred = pipe.predict(X_test)\n",
    "print(classification_report(y_test,y_pred))"
   ]
  },
  {
   "cell_type": "code",
   "execution_count": 16,
   "metadata": {
    "collapsed": false,
    "pycharm": {
     "name": "#%%\n"
    }
   },
   "outputs": [
    {
     "name": "stdout",
     "output_type": "stream",
     "text": [
      "              precision    recall  f1-score   support\n",
      "\n",
      "         0.0       0.46      0.54      0.50       354\n",
      "         1.0       0.53      0.46      0.49       407\n",
      "\n",
      "    accuracy                           0.50       761\n",
      "   macro avg       0.50      0.50      0.50       761\n",
      "weighted avg       0.50      0.50      0.50       761\n",
      "\n"
     ]
    }
   ],
   "source": [
    "model = XGBClassifier(base_score=0.5, booster='gbtree',objective='binary:logistic', learning_rate=0.05, max_depth=7,n_estimators=100)\n",
    "model = make_pipeline(StandardScaler(),model)\n",
    "model.fit(X_res,y_res)\n",
    "y_pred = model.predict(X_test)\n",
    "print(classification_report(y_test, y_pred))"
   ]
  },
  {
   "cell_type": "code",
   "execution_count": 18,
   "metadata": {
    "collapsed": false,
    "pycharm": {
     "name": "#%%\n"
    }
   },
   "outputs": [
    {
     "name": "stdout",
     "output_type": "stream",
     "text": [
      "Fitting 4 folds for each of 16384 candidates, totalling 65536 fits\n"
     ]
    },
    {
     "data": {
      "text/html": [
       "<style>#sk-container-id-1 {color: black;background-color: white;}#sk-container-id-1 pre{padding: 0;}#sk-container-id-1 div.sk-toggleable {background-color: white;}#sk-container-id-1 label.sk-toggleable__label {cursor: pointer;display: block;width: 100%;margin-bottom: 0;padding: 0.3em;box-sizing: border-box;text-align: center;}#sk-container-id-1 label.sk-toggleable__label-arrow:before {content: \"▸\";float: left;margin-right: 0.25em;color: #696969;}#sk-container-id-1 label.sk-toggleable__label-arrow:hover:before {color: black;}#sk-container-id-1 div.sk-estimator:hover label.sk-toggleable__label-arrow:before {color: black;}#sk-container-id-1 div.sk-toggleable__content {max-height: 0;max-width: 0;overflow: hidden;text-align: left;background-color: #f0f8ff;}#sk-container-id-1 div.sk-toggleable__content pre {margin: 0.2em;color: black;border-radius: 0.25em;background-color: #f0f8ff;}#sk-container-id-1 input.sk-toggleable__control:checked~div.sk-toggleable__content {max-height: 200px;max-width: 100%;overflow: auto;}#sk-container-id-1 input.sk-toggleable__control:checked~label.sk-toggleable__label-arrow:before {content: \"▾\";}#sk-container-id-1 div.sk-estimator input.sk-toggleable__control:checked~label.sk-toggleable__label {background-color: #d4ebff;}#sk-container-id-1 div.sk-label input.sk-toggleable__control:checked~label.sk-toggleable__label {background-color: #d4ebff;}#sk-container-id-1 input.sk-hidden--visually {border: 0;clip: rect(1px 1px 1px 1px);clip: rect(1px, 1px, 1px, 1px);height: 1px;margin: -1px;overflow: hidden;padding: 0;position: absolute;width: 1px;}#sk-container-id-1 div.sk-estimator {font-family: monospace;background-color: #f0f8ff;border: 1px dotted black;border-radius: 0.25em;box-sizing: border-box;margin-bottom: 0.5em;}#sk-container-id-1 div.sk-estimator:hover {background-color: #d4ebff;}#sk-container-id-1 div.sk-parallel-item::after {content: \"\";width: 100%;border-bottom: 1px solid gray;flex-grow: 1;}#sk-container-id-1 div.sk-label:hover label.sk-toggleable__label {background-color: #d4ebff;}#sk-container-id-1 div.sk-serial::before {content: \"\";position: absolute;border-left: 1px solid gray;box-sizing: border-box;top: 0;bottom: 0;left: 50%;z-index: 0;}#sk-container-id-1 div.sk-serial {display: flex;flex-direction: column;align-items: center;background-color: white;padding-right: 0.2em;padding-left: 0.2em;position: relative;}#sk-container-id-1 div.sk-item {position: relative;z-index: 1;}#sk-container-id-1 div.sk-parallel {display: flex;align-items: stretch;justify-content: center;background-color: white;position: relative;}#sk-container-id-1 div.sk-item::before, #sk-container-id-1 div.sk-parallel-item::before {content: \"\";position: absolute;border-left: 1px solid gray;box-sizing: border-box;top: 0;bottom: 0;left: 50%;z-index: -1;}#sk-container-id-1 div.sk-parallel-item {display: flex;flex-direction: column;z-index: 1;position: relative;background-color: white;}#sk-container-id-1 div.sk-parallel-item:first-child::after {align-self: flex-end;width: 50%;}#sk-container-id-1 div.sk-parallel-item:last-child::after {align-self: flex-start;width: 50%;}#sk-container-id-1 div.sk-parallel-item:only-child::after {width: 0;}#sk-container-id-1 div.sk-dashed-wrapped {border: 1px dashed gray;margin: 0 0.4em 0.5em 0.4em;box-sizing: border-box;padding-bottom: 0.4em;background-color: white;}#sk-container-id-1 div.sk-label label {font-family: monospace;font-weight: bold;display: inline-block;line-height: 1.2em;}#sk-container-id-1 div.sk-label-container {text-align: center;}#sk-container-id-1 div.sk-container {/* jupyter's `normalize.less` sets `[hidden] { display: none; }` but bootstrap.min.css set `[hidden] { display: none !important; }` so we also need the `!important` here to be able to override the default hidden behavior on the sphinx rendered scikit-learn.org. See: https://github.com/scikit-learn/scikit-learn/issues/21755 */display: inline-block !important;position: relative;}#sk-container-id-1 div.sk-text-repr-fallback {display: none;}</style><div id=\"sk-container-id-1\" class=\"sk-top-container\"><div class=\"sk-text-repr-fallback\"><pre>GridSearchCV(cv=4,\n",
       "             estimator=XGBClassifier(base_score=None, booster=None,\n",
       "                                     callbacks=None, colsample_bylevel=None,\n",
       "                                     colsample_bynode=None,\n",
       "                                     colsample_bytree=None,\n",
       "                                     early_stopping_rounds=None,\n",
       "                                     enable_categorical=False, eval_metric=None,\n",
       "                                     feature_types=None, gamma=None,\n",
       "                                     gpu_id=None, grow_policy=None,\n",
       "                                     importance_type=None,\n",
       "                                     interaction_constraints=None,\n",
       "                                     learning_rate=None,...\n",
       "                                     missing=nan, monotone_constraints=None,\n",
       "                                     n_estimators=100, n_jobs=None,\n",
       "                                     num_parallel_tree=None, predictor=None,\n",
       "                                     random_state=None, ...),\n",
       "             n_jobs=1,\n",
       "             param_grid={&#x27;colsample_bytree&#x27;: [0.6, 0.8, 1.0, 0.9],\n",
       "                         &#x27;gamma&#x27;: [0.5, 1, 5, 0.1],\n",
       "                         &#x27;learning_rate&#x27;: [0.05, 0.1, 0.2, 0.15],\n",
       "                         &#x27;max_depth&#x27;: [4, 5, 6, 7],\n",
       "                         &#x27;min_child_weight&#x27;: [1, 5, 10, 15],\n",
       "                         &#x27;n_estimators&#x27;: [100, 200, 300, 400],\n",
       "                         &#x27;subsample&#x27;: [0.6, 0.8, 1.0, 0.9]},\n",
       "             verbose=1)</pre><b>In a Jupyter environment, please rerun this cell to show the HTML representation or trust the notebook. <br />On GitHub, the HTML representation is unable to render, please try loading this page with nbviewer.org.</b></div><div class=\"sk-container\" hidden><div class=\"sk-item sk-dashed-wrapped\"><div class=\"sk-label-container\"><div class=\"sk-label sk-toggleable\"><input class=\"sk-toggleable__control sk-hidden--visually\" id=\"sk-estimator-id-1\" type=\"checkbox\" ><label for=\"sk-estimator-id-1\" class=\"sk-toggleable__label sk-toggleable__label-arrow\">GridSearchCV</label><div class=\"sk-toggleable__content\"><pre>GridSearchCV(cv=4,\n",
       "             estimator=XGBClassifier(base_score=None, booster=None,\n",
       "                                     callbacks=None, colsample_bylevel=None,\n",
       "                                     colsample_bynode=None,\n",
       "                                     colsample_bytree=None,\n",
       "                                     early_stopping_rounds=None,\n",
       "                                     enable_categorical=False, eval_metric=None,\n",
       "                                     feature_types=None, gamma=None,\n",
       "                                     gpu_id=None, grow_policy=None,\n",
       "                                     importance_type=None,\n",
       "                                     interaction_constraints=None,\n",
       "                                     learning_rate=None,...\n",
       "                                     missing=nan, monotone_constraints=None,\n",
       "                                     n_estimators=100, n_jobs=None,\n",
       "                                     num_parallel_tree=None, predictor=None,\n",
       "                                     random_state=None, ...),\n",
       "             n_jobs=1,\n",
       "             param_grid={&#x27;colsample_bytree&#x27;: [0.6, 0.8, 1.0, 0.9],\n",
       "                         &#x27;gamma&#x27;: [0.5, 1, 5, 0.1],\n",
       "                         &#x27;learning_rate&#x27;: [0.05, 0.1, 0.2, 0.15],\n",
       "                         &#x27;max_depth&#x27;: [4, 5, 6, 7],\n",
       "                         &#x27;min_child_weight&#x27;: [1, 5, 10, 15],\n",
       "                         &#x27;n_estimators&#x27;: [100, 200, 300, 400],\n",
       "                         &#x27;subsample&#x27;: [0.6, 0.8, 1.0, 0.9]},\n",
       "             verbose=1)</pre></div></div></div><div class=\"sk-parallel\"><div class=\"sk-parallel-item\"><div class=\"sk-item\"><div class=\"sk-label-container\"><div class=\"sk-label sk-toggleable\"><input class=\"sk-toggleable__control sk-hidden--visually\" id=\"sk-estimator-id-2\" type=\"checkbox\" ><label for=\"sk-estimator-id-2\" class=\"sk-toggleable__label sk-toggleable__label-arrow\">estimator: XGBClassifier</label><div class=\"sk-toggleable__content\"><pre>XGBClassifier(base_score=None, booster=None, callbacks=None,\n",
       "              colsample_bylevel=None, colsample_bynode=None,\n",
       "              colsample_bytree=None, early_stopping_rounds=None,\n",
       "              enable_categorical=False, eval_metric=None, feature_types=None,\n",
       "              gamma=None, gpu_id=None, grow_policy=None, importance_type=None,\n",
       "              interaction_constraints=None, learning_rate=None, max_bin=None,\n",
       "              max_cat_threshold=None, max_cat_to_onehot=None,\n",
       "              max_delta_step=None, max_depth=None, max_leaves=None,\n",
       "              min_child_weight=None, missing=nan, monotone_constraints=None,\n",
       "              n_estimators=100, n_jobs=None, num_parallel_tree=None,\n",
       "              predictor=None, random_state=None, ...)</pre></div></div></div><div class=\"sk-serial\"><div class=\"sk-item\"><div class=\"sk-estimator sk-toggleable\"><input class=\"sk-toggleable__control sk-hidden--visually\" id=\"sk-estimator-id-3\" type=\"checkbox\" ><label for=\"sk-estimator-id-3\" class=\"sk-toggleable__label sk-toggleable__label-arrow\">XGBClassifier</label><div class=\"sk-toggleable__content\"><pre>XGBClassifier(base_score=None, booster=None, callbacks=None,\n",
       "              colsample_bylevel=None, colsample_bynode=None,\n",
       "              colsample_bytree=None, early_stopping_rounds=None,\n",
       "              enable_categorical=False, eval_metric=None, feature_types=None,\n",
       "              gamma=None, gpu_id=None, grow_policy=None, importance_type=None,\n",
       "              interaction_constraints=None, learning_rate=None, max_bin=None,\n",
       "              max_cat_threshold=None, max_cat_to_onehot=None,\n",
       "              max_delta_step=None, max_depth=None, max_leaves=None,\n",
       "              min_child_weight=None, missing=nan, monotone_constraints=None,\n",
       "              n_estimators=100, n_jobs=None, num_parallel_tree=None,\n",
       "              predictor=None, random_state=None, ...)</pre></div></div></div></div></div></div></div></div></div></div>"
      ],
      "text/plain": [
       "GridSearchCV(cv=4,\n",
       "             estimator=XGBClassifier(base_score=None, booster=None,\n",
       "                                     callbacks=None, colsample_bylevel=None,\n",
       "                                     colsample_bynode=None,\n",
       "                                     colsample_bytree=None,\n",
       "                                     early_stopping_rounds=None,\n",
       "                                     enable_categorical=False, eval_metric=None,\n",
       "                                     feature_types=None, gamma=None,\n",
       "                                     gpu_id=None, grow_policy=None,\n",
       "                                     importance_type=None,\n",
       "                                     interaction_constraints=None,\n",
       "                                     learning_rate=None,...\n",
       "                                     missing=nan, monotone_constraints=None,\n",
       "                                     n_estimators=100, n_jobs=None,\n",
       "                                     num_parallel_tree=None, predictor=None,\n",
       "                                     random_state=None, ...),\n",
       "             n_jobs=1,\n",
       "             param_grid={'colsample_bytree': [0.6, 0.8, 1.0, 0.9],\n",
       "                         'gamma': [0.5, 1, 5, 0.1],\n",
       "                         'learning_rate': [0.05, 0.1, 0.2, 0.15],\n",
       "                         'max_depth': [4, 5, 6, 7],\n",
       "                         'min_child_weight': [1, 5, 10, 15],\n",
       "                         'n_estimators': [100, 200, 300, 400],\n",
       "                         'subsample': [0.6, 0.8, 1.0, 0.9]},\n",
       "             verbose=1)"
      ]
     },
     "execution_count": 18,
     "metadata": {},
     "output_type": "execute_result"
    }
   ],
   "source": [
    "from sklearn.model_selection import GridSearchCV\n",
    "param_grid = {'learning_rate' : [0.05, 0.10, 0.20,0.15],  \n",
    "          'min_child_weight': [1, 5, 10,15],  \n",
    "          'gamma': [0.5, 1, 5,0.1],  \n",
    "          'subsample': [0.6, 0.8, 1.0,0.9],  \n",
    "          'colsample_bytree': [0.6, 0.8, 1.0,0.9],  \n",
    "           'max_depth': [ 4, 5,6,7],\n",
    "           'n_estimators':[100,200,300,400]\n",
    "         }  \n",
    "grid = GridSearchCV(xgb.XGBClassifier()\n",
    "                   ,param_grid\n",
    "                   ,n_jobs=1\n",
    "                   ,cv=4\n",
    "                   ,verbose=1\n",
    "                   ,refit=True)\n",
    "grid.fit(X_res, y_res)\n"
   ]
  },
  {
   "cell_type": "code",
   "execution_count": 20,
   "metadata": {
    "collapsed": false,
    "pycharm": {
     "name": "#%%\n"
    }
   },
   "outputs": [
    {
     "name": "stdout",
     "output_type": "stream",
     "text": [
      "              precision    recall  f1-score   support\n",
      "\n",
      "         0.0       0.47      0.47      0.47       354\n",
      "         1.0       0.54      0.53      0.53       407\n",
      "\n",
      "    accuracy                           0.50       761\n",
      "   macro avg       0.50      0.50      0.50       761\n",
      "weighted avg       0.50      0.50      0.50       761\n",
      "\n"
     ]
    }
   ],
   "source": [
    "y_pred = grid.predict(X_test)\n",
    "print(classification_report(y_test, y_pred))"
   ]
  },
  {
   "cell_type": "code",
   "execution_count": null,
   "metadata": {
    "collapsed": false,
    "pycharm": {
     "name": "#%%\n"
    }
   },
   "outputs": [],
   "source": [
    "print(model.feature_importances_)\n",
    "plt.figure(figsize=(15,8))\n",
    "plt.bar(range(len(model.feature_importances_)), model.feature_importances_)\n",
    "plt.title('Feature importance')\n",
    "plt.xticks(range(len(model.feature_importances_)),predictors.columns,rotation=60)\n",
    "plt.show()"
   ]
  },
  {
   "cell_type": "code",
   "execution_count": null,
   "metadata": {
    "collapsed": false,
    "pycharm": {
     "name": "#%%\n"
    }
   },
   "outputs": [],
   "source": [
    "important_features = predictors.columns[np.where(model.feature_importances_>0.025)]"
   ]
  },
  {
   "cell_type": "code",
   "execution_count": null,
   "metadata": {
    "collapsed": false,
    "pycharm": {
     "name": "#%%\n"
    }
   },
   "outputs": [],
   "source": [
    "X_se = predictors[important_features].values[:-1]\n",
    "X_train,X_test,y_train,y_test = train_test_split(X_se,y,test_size=0.3,shuffle=False)\n",
    "sm = SMOTE(sampling_strategy='minority',random_state=42,k_neighbors=5)\n",
    "X_res,y_res = sm.fit_resample(X_train,y_train)\n",
    "model = XGBClassifier(base_score=0.5, booster='gbtree',objective='binary:logistic', learning_rate=0.1, max_depth=3,n_estimators=500)\n",
    "model.fit(X_res,y_res)\n",
    "y_pred = model.predict(X_test)\n",
    "print(classification_report(y_test, y_pred))"
   ]
  },
  {
   "cell_type": "code",
   "execution_count": 139,
   "metadata": {},
   "outputs": [
    {
     "name": "stdout",
     "output_type": "stream",
     "text": [
      "              precision    recall  f1-score   support\n",
      "\n",
      "         0.0       0.46      0.83      0.60       354\n",
      "         1.0       0.53      0.16      0.25       407\n",
      "\n",
      "    accuracy                           0.48       761\n",
      "   macro avg       0.50      0.50      0.42       761\n",
      "weighted avg       0.50      0.48      0.41       761\n",
      "\n"
     ]
    }
   ],
   "source": [
    "X_se = predictors[important_features].values[:-1]\n",
    "X_train,X_test,y_train,y_test = train_test_split(X_se,y,test_size=0.3,shuffle=False)\n",
    "sm = SMOTE(sampling_strategy='minority',random_state=42,k_neighbors=5)\n",
    "X_res,y_res = sm.fit_resample(X_train,y_train)\n",
    "model = XGBClassifier(base_score=0.5, booster='gbtree',objective='binary:logistic', learning_rate=0.1, max_depth=3,n_estimators=500)\n",
    "model.fit(X_res,y_res)\n",
    "y_pred = model.predict(X_test)\n",
    "print(classification_report(y_test, y_pred))"
   ]
  },
  {
   "cell_type": "code",
   "execution_count": 141,
   "metadata": {},
   "outputs": [
    {
     "name": "stdout",
     "output_type": "stream",
     "text": [
      "              precision    recall  f1-score   support\n",
      "\n",
      "         0.0       0.47      0.84      0.60       354\n",
      "         1.0       0.55      0.18      0.27       407\n",
      "\n",
      "    accuracy                           0.48       761\n",
      "   macro avg       0.51      0.51      0.43       761\n",
      "weighted avg       0.51      0.48      0.42       761\n",
      "\n"
     ]
    }
   ],
   "source": [
    "pipe = make_pipeline(StandardScaler(),RandomForestClassifier(criterion='log_loss'))\n",
    "pipe.fit(X_res,y_res)\n",
    "y_pred = pipe.predict(X_test)\n",
    "print(classification_report(y_test,y_pred))"
   ]
  },
  {
   "cell_type": "code",
   "execution_count": 140,
   "metadata": {},
   "outputs": [],
   "source": [
    "dtrain = xgb.DMatrix(data=X_train, label=y_train, enable_categorical = True)\n",
    "dtest_clf = xgb.DMatrix(X_test, y_test, enable_categorical=True)\n",
    "num_parallel_tree = 4\n",
    "num_boost_round = 16\n",
    "# total number of built trees is num_parallel_tree * num_classes * num_boost_round\n",
    "\n",
    "# We build a boosted random forest for classification here.\n",
    "booster = xgb.train({\n",
    "    'num_parallel_tree': 4, 'subsample': 0.5, 'num_class': 2},\n",
    "                    num_boost_round=num_boost_round, dtrain=dtrain)\n",
    "    \n"
   ]
  },
  {
   "cell_type": "code",
   "execution_count": 192,
   "metadata": {},
   "outputs": [],
   "source": [
    "from sklearn.model_selection import train_test_split\n",
    "from sklearn.preprocessing import StandardScaler,MinMaxScaler\n",
    "from sklearn.model_selection import TimeSeriesSplit"
   ]
  },
  {
   "cell_type": "code",
   "execution_count": 193,
   "metadata": {},
   "outputs": [],
   "source": [
    "def logi_cv(stock, freq, cv=5):\n",
    "    # freq = 'Weekly'\n",
    "    # stock = 'AAPL'\n",
    "    price = pd.read_csv('../encode_price/'+freq+'/'+stock+'.csv')\n",
    "    y = price.direction.shift(-1).values[:-1]\n",
    "    predictors = pd.read_csv('../predictors/Merged/'+freq+'/'+stock+'.csv',index_col='Date')\n",
    "    predictors.fillna(0,inplace=True)\n",
    "    X = predictors.values[:-1,]\n",
    "    X.shape\n",
    "\n",
    "    tscv = TimeSeriesSplit(n_splits=cv)\n",
    "    scores = []\n",
    "    for train_index, test_index in tscv.split(X):\n",
    "        X_train, X_test = X[train_index], X[test_index]\n",
    "        y_train, y_test = y[train_index], y[test_index]\n",
    "        pipe = make_pipeline(MinMaxScaler(),RandomForestClassifier(criterion='log_loss'))\n",
    "        pipe.fit(X_train,y_train)\n",
    "        y_pred = pipe.predict(X_test)\n",
    "        score = classification_report(y_test,y_pred,output_dict=True)\n",
    "        scores.append(score['weighted avg']['f1-score'])\n",
    "\n",
    "    average_score = np.mean(scores)\n",
    "    print(stock,'/',freq,'\\n','Average F1-score:', average_score)"
   ]
  },
  {
   "cell_type": "code",
   "execution_count": 194,
   "metadata": {},
   "outputs": [
    {
     "name": "stdout",
     "output_type": "stream",
     "text": [
      "AAPL / Daily \n",
      " Average F1-score: 0.44706501401326026\n"
     ]
    }
   ],
   "source": [
    "logi_cv(\"AAPL\",\"Daily\")"
   ]
  },
  {
   "cell_type": "markdown",
   "metadata": {},
   "source": [
    "#"
   ]
  },
  {
   "cell_type": "code",
   "execution_count": null,
   "metadata": {},
   "outputs": [],
   "source": [
    "price = pd.read_csv('../encode_price/'+freq+'/'+stock+'.csv')\n",
    "y = price.direction.shift(-1).values[:-1]\n",
    "predictors = pd.read_csv('../predictors/Merged/'+freq+'/'+stock+'.csv',index_col='Date')\n",
    "predictors.fillna(0,inplace=True)\n",
    "X = predictors.values[:-1,]\n",
    "X.shape\n",
    "tscv = TimeSeriesSplit(n_splits=cv)\n",
    "scores = []\n",
    "for train_index, test_index in tscv.split(X):\n",
    "    X_train, X_test = X[train_index], X[test_index]\n",
    "    y_train, y_test = y[train_index], y[test_index]\n",
    "    pipe = make_pipeline(MinMaxScaler(),RandomForestClassifier(criterion='log_loss'))\n",
    "    pipe.fit(X_train,y_train)\n",
    "    y_pred = pipe.predict(X_test)\n",
    "    score = classification_report(y_test,y_pred,output_dict=True)\n",
    "    scores.append(score['weighted avg']['f1-score'])\n",
    "average_score = np.mean(scores)\n",
    "print(stock,'/',freq,'\\n','Average F1-score:', average_score)"
   ]
  }
 ],
 "metadata": {
  "kernelspec": {
   "display_name": "Python 3.9.12 ('base')",
   "language": "python",
   "name": "python3"
  },
  "language_info": {
   "codemirror_mode": {
    "name": "ipython",
    "version": 3
   },
   "file_extension": ".py",
   "mimetype": "text/x-python",
   "name": "python",
   "nbconvert_exporter": "python",
   "pygments_lexer": "ipython3",
   "version": "3.11.0"
  },
  "orig_nbformat": 4,
  "vscode": {
   "interpreter": {
    "hash": "f5ca7f1e19f63aad61e7f105267048d1a47f29c947be0f4c6ffca5d2ac1d455d"
   }
  }
 },
 "nbformat": 4,
 "nbformat_minor": 2
}
