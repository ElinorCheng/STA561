{
 "cells": [
  {
   "attachments": {},
   "cell_type": "markdown",
   "metadata": {},
   "source": [
    "# SVM"
   ]
  },
  {
   "cell_type": "code",
   "execution_count": 115,
   "metadata": {},
   "outputs": [],
   "source": [
    "from sklearn.svm import SVR\n",
    "from sklearn.model_selection import train_test_split\n",
    "from sklearn.preprocessing import MinMaxScaler,StandardScaler\n",
    "from sklearn.pipeline import make_pipeline\n",
    "from sklearn.metrics import confusion_matrix, classification_report, mean_squared_error\n",
    "from imblearn.over_sampling import SMOTE\n",
    "import matplotlib.pyplot as plt\n",
    "from sklearn.model_selection import TimeSeriesSplit"
   ]
  },
  {
   "cell_type": "code",
   "execution_count": 116,
   "metadata": {},
   "outputs": [],
   "source": [
    "tech_list = ['SMA','EMA','STOCH_k','STOCK_d','RSI','MFI','SAR','AD','MACD','MACD_Signal','MACD_Histo','VWAP','SPY','NDAQ','PC1','PC2']\n",
    "funda_list = ['pcf','PEG_trailing','dpr','npm','gpm','roa','roe','capital_ratio','de_ratio','cash_ratio','curr_ratio','inv_turn','pay_turn','sale_nwc','rd_sale','accrual']\n",
    "macro_list = ['gdpr1,gdpr2,cpi,bond20yr,bond30yr,fedfunds,cpir,wpir,unemp,employ']"
   ]
  },
  {
   "cell_type": "code",
   "execution_count": 133,
   "metadata": {},
   "outputs": [],
   "source": [
    "import pandas as pd\n",
    "import numpy as np\n",
    "from sklearn.feature_selection import SequentialFeatureSelector\n",
    "\n",
    "\n",
    "freq = 'Daily'\n",
    "stock = 'AAPL'\n",
    "price = pd.read_csv('../encode_price/'+freq+'/'+stock+'.csv')\n",
    "price = price.loc[price.Date<='2019-12-31',:][::-1]\n",
    "y = price.adjusted_close.shift(-1).values[:-1]\n",
    "predictors = pd.read_csv('../predictors/Merged/'+freq+'/'+stock+'.csv')\n",
    "NLP = pd.read_csv('../predictors/NLP/Daily/NYT_macro_SA.csv')\n",
    "predictors = pd.merge(predictors,NLP,how='left',on=['Date'])\n",
    "predictors = predictors.loc[predictors.Date <= '2019-12-31',:]\n",
    "predictors.set_index('Date',inplace=True)\n",
    "predictors.fillna(0,inplace=True)\n",
    "X = predictors.values[:-1]"
   ]
  },
  {
   "attachments": {},
   "cell_type": "markdown",
   "metadata": {},
   "source": [
    "## Sigmoid Kernel"
   ]
  },
  {
   "cell_type": "code",
   "execution_count": 134,
   "metadata": {},
   "outputs": [
    {
     "name": "stdout",
     "output_type": "stream",
     "text": [
      "24.279186294048962\n",
      "21.138815937001702\n",
      "28.201315838991214\n",
      "18.693168668137037\n",
      "15.312345751859699\n",
      "17.908822360119814\n",
      "13.885620427231917\n",
      "12.080196243788881\n",
      "12.553856098820848\n",
      "12.694523075707062\n",
      "13.478445680504498\n",
      "14.22016245953426\n",
      "AAPL / Daily \n",
      " MSE [24.279186294048962, 21.138815937001702, 28.201315838991214, 18.693168668137037, 15.312345751859699, 17.908822360119814, 13.885620427231917, 12.080196243788881, 12.553856098820848, 12.694523075707062, 13.478445680504498, 14.22016245953426]\n"
     ]
    }
   ],
   "source": [
    "cv = 5\n",
    "tscv = TimeSeriesSplit(n_splits=cv)\n",
    "total_score = []\n",
    "for i in range(5,50,4):\n",
    "    scores = []\n",
    "    for train_index, test_index in tscv.split(X):\n",
    "        X_train, X_test = X[train_index], X[test_index]\n",
    "        y_train, y_test = y[train_index], y[test_index]\n",
    "        pipe = make_pipeline(MinMaxScaler(),SVR(kernel='sigmoid'))\n",
    "        sfs = SequentialFeatureSelector(pipe,n_jobs = -1,n_features_to_select=i,scoring='neg_root_mean_squared_error')\n",
    "        sfs.fit(X_train,y_train)\n",
    "        X_train = sfs.transform(X_train)\n",
    "        pipe.fit(X_train,y_train)\n",
    "        X_test =  sfs.transform(X_test)\n",
    "        y_pred = pipe.predict(X_test)\n",
    "        scores.append(mean_squared_error(y_pred,y_test,squared=False))\n",
    "    average_score = np.mean(scores)\n",
    "    print(average_score)\n",
    "    total_score.append(average_score)\n",
    "print(stock,'/',freq,'\\n','MSE', total_score)"
   ]
  },
  {
   "cell_type": "code",
   "execution_count": 135,
   "metadata": {},
   "outputs": [
    {
     "name": "stdout",
     "output_type": "stream",
     "text": [
      "5 24.279186294048962\n",
      "9 21.138815937001702\n",
      "13 28.201315838991214\n",
      "17 18.693168668137037\n",
      "21 15.312345751859699\n",
      "25 17.908822360119814\n",
      "29 13.885620427231917\n",
      "33 12.080196243788881\n",
      "37 12.553856098820848\n",
      "41 12.694523075707062\n",
      "45 13.478445680504498\n",
      "49 14.22016245953426\n"
     ]
    }
   ],
   "source": [
    "i = 0\n",
    "for j in range(5,50,4):\n",
    "    print(j,total_score[i])\n",
    "    i += 1"
   ]
  },
  {
   "cell_type": "code",
   "execution_count": 136,
   "metadata": {},
   "outputs": [
    {
     "name": "stdout",
     "output_type": "stream",
     "text": [
      "17.908822360119814\n",
      "15.024988216268628\n",
      "13.885620427231917\n",
      "12.764415344962032\n",
      "12.080196243788881\n",
      "12.327097193550049\n",
      "12.553856098820848\n",
      "12.437878046433374\n",
      "AAPL / Daily \n",
      " MSE [17.908822360119814, 15.024988216268628, 13.885620427231917, 12.764415344962032, 12.080196243788881, 12.327097193550049, 12.553856098820848, 12.437878046433374]\n"
     ]
    }
   ],
   "source": [
    "cv = 5\n",
    "tscv = TimeSeriesSplit(n_splits=cv)\n",
    "total_score = []\n",
    "for i in range(25,41,2):\n",
    "    scores = []\n",
    "    for train_index, test_index in tscv.split(X):\n",
    "        X_train, X_test = X[train_index], X[test_index]\n",
    "        y_train, y_test = y[train_index], y[test_index]\n",
    "        pipe = make_pipeline(MinMaxScaler(),SVR(kernel='sigmoid'))\n",
    "        sfs = SequentialFeatureSelector(pipe,n_jobs = -1,n_features_to_select=i,scoring='neg_root_mean_squared_error')\n",
    "        sfs.fit(X_train,y_train)\n",
    "        X_train = sfs.transform(X_train)\n",
    "        pipe.fit(X_train,y_train)\n",
    "        X_test =  sfs.transform(X_test)\n",
    "        y_pred = pipe.predict(X_test)\n",
    "        scores.append(mean_squared_error(y_pred,y_test,squared=False))\n",
    "    average_score = np.mean(scores)\n",
    "    print(average_score)\n",
    "    total_score.append(average_score)\n",
    "print(stock,'/',freq,'\\n','MSE', total_score)"
   ]
  },
  {
   "cell_type": "code",
   "execution_count": 137,
   "metadata": {},
   "outputs": [
    {
     "name": "stdout",
     "output_type": "stream",
     "text": [
      "47.29698729314522\n",
      "14.91884289207168\n",
      "15.244273622675445\n",
      "15.288818673250892\n",
      "14.947045025254912\n",
      "14.135154288491048\n",
      "13.508278319300526\n",
      "15.128049596282853\n",
      "14.199183953297894\n",
      "14.219249237105908\n",
      "14.4037298160903\n",
      "14.535381872538021\n",
      "AAPL / Daily \n",
      " MSE [47.29698729314522, 14.91884289207168, 15.244273622675445, 15.288818673250892, 14.947045025254912, 14.135154288491048, 13.508278319300526, 15.128049596282853, 14.199183953297894, 14.219249237105908, 14.4037298160903, 14.535381872538021]\n"
     ]
    }
   ],
   "source": [
    "from sklearn.linear_model import Lasso\n",
    "cv = 5\n",
    "tscv = TimeSeriesSplit(n_splits=cv)\n",
    "total_score = []\n",
    "for i in range(5,50,4):\n",
    "    scores = []\n",
    "    for train_index, test_index in tscv.split(X):\n",
    "        X_train, X_test = X[train_index], X[test_index]\n",
    "        y_train, y_test = y[train_index], y[test_index]\n",
    "        pipe = make_pipeline(MinMaxScaler(),Lasso())\n",
    "        sfs = SequentialFeatureSelector(pipe,n_jobs = -1,n_features_to_select=i,scoring='neg_root_mean_squared_error')\n",
    "        sfs.fit(X_train,y_train)\n",
    "        X_train = sfs.transform(X_train)\n",
    "\n",
    "        pipmodel = make_pipeline(MinMaxScaler(),SVR(kernel='sigmoid'))\n",
    "        pipmodel.fit(X_train,y_train)\n",
    "        X_test =  sfs.transform(X_test)\n",
    "        y_pred = pipmodel.predict(X_test)\n",
    "        scores.append(mean_squared_error(y_pred,y_test,squared=False))\n",
    "    average_score = np.mean(scores)\n",
    "    print(average_score)\n",
    "    total_score.append(average_score)\n",
    "print(stock,'/',freq,'\\n','MSE', total_score)"
   ]
  },
  {
   "attachments": {},
   "cell_type": "markdown",
   "metadata": {},
   "source": [
    "## Linear Kernel"
   ]
  },
  {
   "cell_type": "code",
   "execution_count": 130,
   "metadata": {},
   "outputs": [
    {
     "data": {
      "text/plain": [
       "9330.110211252331"
      ]
     },
     "execution_count": 130,
     "metadata": {},
     "output_type": "execute_result"
    }
   ],
   "source": [
    "X_train,X_test,y_train,y_test = train_test_split(X,y,test_size=0.2,shuffle=False)\n",
    "pipe = make_pipeline(MinMaxScaler(),SVR(kernel='linear'))\n",
    "pipe.fit(X_train,y_train)\n",
    "y_pred = pipe.predict(X_test)\n",
    "mean_squared_error(y_pred,y_test,squared=False)"
   ]
  },
  {
   "cell_type": "code",
   "execution_count": 47,
   "metadata": {},
   "outputs": [
    {
     "name": "stdout",
     "output_type": "stream",
     "text": [
      "              precision    recall  f1-score   support\n",
      "\n",
      "         0.0       0.46      0.47      0.47       229\n",
      "         1.0       0.55      0.55      0.55       274\n",
      "\n",
      "    accuracy                           0.51       503\n",
      "   macro avg       0.51      0.51      0.51       503\n",
      "weighted avg       0.51      0.51      0.51       503\n",
      "\n"
     ]
    }
   ],
   "source": [
    "pipe.fit(X_res,y_res)\n",
    "y_pred = pipe.predict(X_test)\n",
    "print(classification_report(y_test,y_pred))"
   ]
  },
  {
   "attachments": {},
   "cell_type": "markdown",
   "metadata": {},
   "source": [
    "## RBF Kernel"
   ]
  },
  {
   "cell_type": "code",
   "execution_count": 131,
   "metadata": {},
   "outputs": [
    {
     "data": {
      "text/plain": [
       "28.077697972057216"
      ]
     },
     "execution_count": 131,
     "metadata": {},
     "output_type": "execute_result"
    }
   ],
   "source": [
    "X_train,X_test,y_train,y_test = train_test_split(X,y,test_size=0.2,shuffle=False)\n",
    "pipe = make_pipeline(MinMaxScaler(),SVR(kernel='rbf'))\n",
    "pipe.fit(X_train,y_train)\n",
    "y_pred = pipe.predict(X_test)\n",
    "mean_squared_error(y_pred,y_test,squared=False)"
   ]
  },
  {
   "attachments": {},
   "cell_type": "markdown",
   "metadata": {},
   "source": [
    "## Sigmoid Kernel"
   ]
  },
  {
   "cell_type": "code",
   "execution_count": 132,
   "metadata": {},
   "outputs": [
    {
     "data": {
      "text/plain": [
       "29.229015322211435"
      ]
     },
     "execution_count": 132,
     "metadata": {},
     "output_type": "execute_result"
    }
   ],
   "source": [
    "X_train,X_test,y_train,y_test = train_test_split(X,y,test_size=0.2,shuffle=False)\n",
    "pipe = make_pipeline(MinMaxScaler(),SVR(kernel= 'sigmoid'))\n",
    "pipe.fit(X_train,y_train)\n",
    "y_pred = pipe.predict(X_test)\n",
    "mean_squared_error(y_pred,y_test,squared=False)"
   ]
  },
  {
   "cell_type": "code",
   "execution_count": null,
   "metadata": {},
   "outputs": [],
   "source": []
  }
 ],
 "metadata": {
  "kernelspec": {
   "display_name": "Python 3",
   "language": "python",
   "name": "python3"
  },
  "language_info": {
   "codemirror_mode": {
    "name": "ipython",
    "version": 3
   },
   "file_extension": ".py",
   "mimetype": "text/x-python",
   "name": "python",
   "nbconvert_exporter": "python",
   "pygments_lexer": "ipython3",
   "version": "3.11.0"
  },
  "orig_nbformat": 4
 },
 "nbformat": 4,
 "nbformat_minor": 2
}
