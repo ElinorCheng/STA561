{
 "cells": [
  {
   "cell_type": "code",
   "execution_count": 104,
   "metadata": {},
   "outputs": [],
   "source": [
    "import pandas as pd\n",
    "import numpy as np\n"
   ]
  },
  {
   "cell_type": "markdown",
   "metadata": {},
   "source": [
    "## Linear Regression\n",
    "- Stock Price"
   ]
  },
  {
   "cell_type": "code",
   "execution_count": 177,
   "metadata": {},
   "outputs": [],
   "source": [
    "freq = 'Daily'\n",
    "stock = 'V'\n",
    "price = pd.read_csv('../encode_price/'+freq+'/'+stock+'.csv')\n",
    "price = price.sort_values(by='Date').reset_index(drop=True)\n",
    "predictors = pd.read_csv('../predictors/Merged/'+freq+'/'+stock+'.csv',index_col='Date')\n",
    "NLP = pd.read_csv('../predictors/NLP/Daily/NYT_macro_SA.csv').set_index(['Date'])\n",
    "predictors = predictors.merge(NLP,left_index=True,right_index=True,how='left')\n",
    "predictors = predictors.loc[predictors.index<='2019-12-31',:]\n",
    "predictors.fillna(0,inplace=True)\n",
    "#predictors = predictors.drop(['gdp','adjusted_close'],axis=1)\n",
    "X = predictors.values[:-1,]\n",
    "y = price.adjusted_close.shift(-1).values[:len(X)]\n"
   ]
  },
  {
   "cell_type": "code",
   "execution_count": 178,
   "metadata": {},
   "outputs": [],
   "source": [
    "from sklearn.linear_model import LassoCV,LassoLarsCV\n",
    "from sklearn.model_selection import TimeSeriesSplit\n",
    "from sklearn.model_selection import train_test_split\n",
    "from sklearn.preprocessing import StandardScaler,MinMaxScaler\n",
    "from sklearn.pipeline import make_pipeline\n",
    "from sklearn.metrics import confusion_matrix\n",
    "from sklearn.metrics import classification_report\n",
    "from imblearn.over_sampling import SMOTE\n",
    "from matplotlib import pyplot as plt\n",
    "import warnings\n",
    "from sklearn.exceptions import ConvergenceWarning\n",
    "warnings.filterwarnings(\"ignore\",category=ConvergenceWarning)"
   ]
  },
  {
   "cell_type": "code",
   "execution_count": 179,
   "metadata": {},
   "outputs": [],
   "source": [
    "X_train,X_test,y_train,y_test = train_test_split(X,y,test_size=0.25,shuffle=False)"
   ]
  },
  {
   "cell_type": "code",
   "execution_count": 180,
   "metadata": {},
   "outputs": [],
   "source": [
    "def mse(y_pred, y_true):\n",
    "    n = len(y_pred)\n",
    "    return np.sqrt(np.sum(np.square(y_pred - y_true)))/n"
   ]
  },
  {
   "cell_type": "code",
   "execution_count": 181,
   "metadata": {},
   "outputs": [
    {
     "name": "stdout",
     "output_type": "stream",
     "text": [
      "0.9935389968426734\n",
      "0.9935389968426734\n",
      "0.9935389968426734\n",
      "0.9935389968426734\n",
      "0.9935389968426734\n",
      "0.9935389968426734\n",
      "0.9912235830440596\n",
      "0.9935389968426734\n",
      "0.9935389968426734\n",
      "0.9935389968426734\n",
      "0.9935389968426734\n",
      "0.9926963191439083\n"
     ]
    }
   ],
   "source": [
    "scores = []\n",
    "for i in range(3,15):\n",
    "    tscv = TimeSeriesSplit(n_splits=i)\n",
    "    pipe = make_pipeline(MinMaxScaler(),LassoCV(cv=tscv))\n",
    "    pipe.fit(X_train,y_train)\n",
    "    y_pred = pipe.predict(X_test)\n",
    "    score = pipe.score(X_train, y_train)\n",
    "    print(score)\n",
    "    scores.append(score)\n",
    "n_split = scores.index(min(scores))+2\n"
   ]
  },
  {
   "cell_type": "code",
   "execution_count": 182,
   "metadata": {},
   "outputs": [
    {
     "name": "stdout",
     "output_type": "stream",
     "text": [
      "21762.003921568168 0.04270183561506744\n"
     ]
    },
    {
     "data": {
      "text/plain": [
       "<matplotlib.legend.Legend at 0x287c2d1f0>"
      ]
     },
     "execution_count": 182,
     "metadata": {},
     "output_type": "execute_result"
    },
    {
     "data": {
      "image/png": "[encoded data removed]",
      "text/plain": [
       "<Figure size 640x480 with 1 Axes>"
      ]
     },
     "metadata": {},
     "output_type": "display_data"
    }
   ],
   "source": [
    "tscv = TimeSeriesSplit(n_splits=6)\n",
    "pipe = make_pipeline(MinMaxScaler(),LassoCV(cv=2))\n",
    "pipe.fit(X_train,y_train)\n",
    "y_pred = pipe.predict(X_test)\n",
    "print(mse(y_pred, y_test), mse(y_train, pipe.predict(X_train)))\n",
    "plt.plot(y_pred,label=\"Predictions\")\n",
    "plt.plot(y_test,label=\"Actual Data\")\n",
    "plt.title(stock)\n",
    "plt.legend()\n"
   ]
  },
  {
   "cell_type": "code",
   "execution_count": null,
   "metadata": {},
   "outputs": [],
   "source": []
  },
  {
   "cell_type": "code",
   "execution_count": null,
   "metadata": {},
   "outputs": [],
   "source": []
  }
 ],
 "metadata": {
  "kernelspec": {
   "display_name": "Python 3.9.6 64-bit",
   "language": "python",
   "name": "python3"
  },
  "language_info": {
   "codemirror_mode": {
    "name": "ipython",
    "version": 3
   },
   "file_extension": ".py",
   "mimetype": "text/x-python",
   "name": "python",
   "nbconvert_exporter": "python",
   "pygments_lexer": "ipython3",
   "version": "3.9.6"
  },
  "orig_nbformat": 4,
  "vscode": {
   "interpreter": {
    "hash": "31f2aee4e71d21fbe5cf8b01ff0e069b9275f58929596ceb00d14d90e3e16cd6"
   }
  }
 },
 "nbformat": 4,
 "nbformat_minor": 2
}
