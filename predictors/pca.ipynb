{
 "cells": [
  {
   "cell_type": "code",
   "execution_count": null,
   "metadata": {},
   "outputs": [],
   "source": [
    "from sklearn.linear_model import LogisticRegression\n",
    "from sklearn.model_selection import train_test_split\n",
    "from sklearn.preprocessing import StandardScaler,MinMaxScaler\n",
    "from sklearn.pipeline import make_pipeline\n",
    "from sklearn.metrics import confusion_matrix\n",
    "from sklearn.metrics import classification_report,zero_one_loss,recall_score\n",
    "from imblearn.over_sampling import SMOTE\n",
    "import matplotlib.pyplot as plt\n",
    "import pandas as pd\n",
    "import numpy as np\n",
    "\n",
    "from sklearn.model_selection import TimeSeriesSplit"
   ]
  },
  {
   "cell_type": "code",
   "execution_count": null,
   "metadata": {},
   "outputs": [],
   "source": [
    "# n = 0.99\n",
    "n = 2\n",
    "\n",
    "for stock in stock_list:\n",
    "    stock_df = pd.read_csv(\"Tech/Daily/\"+stock+\".csv\")\n",
    "    df = stock_df.copy().sort_values(by=\"Date\").reset_index(drop=True)\n",
    "    df1 = df.loc[:,features]\n",
    "    df1 = df1.dropna()\n",
    "    df1 = df1.reset_index(drop=True)\n",
    "    df_pca = knnpca(df1, n_components = n)\n",
    "    df = pd.concat([df,df_pca],axis=1)\n",
    "    df.to_csv(\"Tech/Daily_PCA/\"+stock+\".csv\",index=0)\n",
    "\n",
    "for stock in stock_list:\n",
    "    stock_df = pd.read_csv(\"Tech/Weekly/\"+stock+\".csv\")\n",
    "    df = stock_df.copy().sort_values(by=\"Date\").reset_index(drop=True)\n",
    "    df1 = df.loc[:,features]\n",
    "    df1 = df1.dropna()\n",
    "    df1 = df1.reset_index(drop=True)\n",
    "    df_pca = knnpca(df1, n_components = n)\n",
    "    df = pd.concat([df,df_pca],axis=1)\n",
    "    df.to_csv(\"Tech/Weekly_PCA/\"+stock+\".csv\",index=0)\n",
    "\n",
    "for stock in stock_list:\n",
    "    stock_df = pd.read_csv(\"Tech/Monthly/\"+stock+\".csv\")\n",
    "    df = stock_df.copy().sort_values(by=\"Date\").reset_index(drop=True)\n",
    "    df1 = df.loc[:,features]\n",
    "    df1 = df1.dropna()\n",
    "    df1 = df1.reset_index(drop=True)\n",
    "    df_pca = knnpca(df1, n_components = n)\n",
    "    df = pd.concat([df,df_pca],axis=1)\n",
    "    df.to_csv(\"Tech/Monthly_PCA/\"+stock+\".csv\",index=0)"
   ]
  }
 ],
 "metadata": {
  "language_info": {
   "name": "python"
  },
  "orig_nbformat": 4
 },
 "nbformat": 4,
 "nbformat_minor": 2
}
