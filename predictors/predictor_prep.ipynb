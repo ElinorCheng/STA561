{
 "cells": [
  {
   "cell_type": "code",
   "execution_count": 1,
   "metadata": {},
   "outputs": [],
   "source": [
    "import pandas as pd\n",
    "import numpy as np\n",
    "import datetime as dt"
   ]
  },
  {
   "cell_type": "code",
   "execution_count": 2,
   "metadata": {},
   "outputs": [
    {
     "data": {
      "text/plain": [
       "Index(['gvkey', 'permno', 'adate', 'qdate', 'public_date', 'pcf', 'dpr', 'npm',\n",
       "       'gpm', 'roa', 'roe', 'capital_ratio', 'de_ratio', 'cash_ratio',\n",
       "       'curr_ratio', 'inv_turn', 'pay_turn', 'sale_nwc', 'rd_sale',\n",
       "       'staff_sale', 'accrual', 'PEG_trailing', 'TICKER'],\n",
       "      dtype='object')"
      ]
     },
     "execution_count": 2,
     "metadata": {},
     "output_type": "execute_result"
    }
   ],
   "source": [
    "## Fundamental Data Analysis\n",
    "funda_data = pd.read_csv('Fundamental_data.csv')\n",
    "funda_data.columns"
   ]
  },
  {
   "cell_type": "code",
   "execution_count": 3,
   "metadata": {},
   "outputs": [],
   "source": [
    "funda_data = funda_data.drop(columns=['public_date',\"pcf\",'staff_sale','PEG_trailing','gvkey','permno','adate'])\n",
    "funda_data = funda_data.drop_duplicates()"
   ]
  },
  {
   "cell_type": "code",
   "execution_count": 35,
   "metadata": {},
   "outputs": [],
   "source": [
    "def merge_left(funda_stock,name,freq):\n",
    "    price = pd.read_csv('../stock_price/'+freq+'/'+name+'.csv')\n",
    "    price['Date'] = price.Date.apply(lambda x: dt.datetime.strptime(x,'%Y-%m-%d'))\n",
    "    close = price.loc[:,['Date']]\n",
    "    df = pd.merge(funda_stock,close,how='right',left_on=['qdate'],right_on=['Date'])\n",
    "    df.fillna(method='ffill',inplace=True)\n",
    "    df.set_index('Date',inplace=True)\n",
    "    df.dropna(inplace=True)\n",
    "    df.drop(columns=['qdate','TICKER'],inplace=True)\n",
    "    df.to_csv(freq+'/'+name+'.csv')"
   ]
  },
  {
   "cell_type": "markdown",
   "metadata": {},
   "source": [
    "In there, we delete the unuseful columns named pulic_date, pcf, staff_sale, peg_trailing, gvkey, permno and drop the duplicates for each rows. We also delete the adate data out of the purpose to delete the unuseful information here. Finally, we gonna use the qdate to be the corresponding time to mark the ticker."
   ]
  },
  {
   "cell_type": "code",
   "execution_count": 38,
   "metadata": {},
   "outputs": [
    {
     "name": "stderr",
     "output_type": "stream",
     "text": [
      "/var/folders/ck/fdgds2ns7w3bfppbyfdv7x1m0000gn/T/ipykernel_59105/1594930208.py:3: SettingWithCopyWarning: \n",
      "A value is trying to be set on a copy of a slice from a DataFrame.\n",
      "Try using .loc[row_indexer,col_indexer] = value instead\n",
      "\n",
      "See the caveats in the documentation: https://pandas.pydata.org/pandas-docs/stable/user_guide/indexing.html#returning-a-view-versus-a-copy\n",
      "  funda_stock['qdate'] = funda_data.qdate.apply(lambda x:dt.datetime.strptime(x,'%m/%d/%Y'))\n",
      "/var/folders/ck/fdgds2ns7w3bfppbyfdv7x1m0000gn/T/ipykernel_59105/1594930208.py:3: SettingWithCopyWarning: \n",
      "A value is trying to be set on a copy of a slice from a DataFrame.\n",
      "Try using .loc[row_indexer,col_indexer] = value instead\n",
      "\n",
      "See the caveats in the documentation: https://pandas.pydata.org/pandas-docs/stable/user_guide/indexing.html#returning-a-view-versus-a-copy\n",
      "  funda_stock['qdate'] = funda_data.qdate.apply(lambda x:dt.datetime.strptime(x,'%m/%d/%Y'))\n",
      "/var/folders/ck/fdgds2ns7w3bfppbyfdv7x1m0000gn/T/ipykernel_59105/1594930208.py:3: SettingWithCopyWarning: \n",
      "A value is trying to be set on a copy of a slice from a DataFrame.\n",
      "Try using .loc[row_indexer,col_indexer] = value instead\n",
      "\n",
      "See the caveats in the documentation: https://pandas.pydata.org/pandas-docs/stable/user_guide/indexing.html#returning-a-view-versus-a-copy\n",
      "  funda_stock['qdate'] = funda_data.qdate.apply(lambda x:dt.datetime.strptime(x,'%m/%d/%Y'))\n",
      "/var/folders/ck/fdgds2ns7w3bfppbyfdv7x1m0000gn/T/ipykernel_59105/1594930208.py:3: SettingWithCopyWarning: \n",
      "A value is trying to be set on a copy of a slice from a DataFrame.\n",
      "Try using .loc[row_indexer,col_indexer] = value instead\n",
      "\n",
      "See the caveats in the documentation: https://pandas.pydata.org/pandas-docs/stable/user_guide/indexing.html#returning-a-view-versus-a-copy\n",
      "  funda_stock['qdate'] = funda_data.qdate.apply(lambda x:dt.datetime.strptime(x,'%m/%d/%Y'))\n",
      "/var/folders/ck/fdgds2ns7w3bfppbyfdv7x1m0000gn/T/ipykernel_59105/1594930208.py:3: SettingWithCopyWarning: \n",
      "A value is trying to be set on a copy of a slice from a DataFrame.\n",
      "Try using .loc[row_indexer,col_indexer] = value instead\n",
      "\n",
      "See the caveats in the documentation: https://pandas.pydata.org/pandas-docs/stable/user_guide/indexing.html#returning-a-view-versus-a-copy\n",
      "  funda_stock['qdate'] = funda_data.qdate.apply(lambda x:dt.datetime.strptime(x,'%m/%d/%Y'))\n",
      "/var/folders/ck/fdgds2ns7w3bfppbyfdv7x1m0000gn/T/ipykernel_59105/1594930208.py:3: SettingWithCopyWarning: \n",
      "A value is trying to be set on a copy of a slice from a DataFrame.\n",
      "Try using .loc[row_indexer,col_indexer] = value instead\n",
      "\n",
      "See the caveats in the documentation: https://pandas.pydata.org/pandas-docs/stable/user_guide/indexing.html#returning-a-view-versus-a-copy\n",
      "  funda_stock['qdate'] = funda_data.qdate.apply(lambda x:dt.datetime.strptime(x,'%m/%d/%Y'))\n",
      "/var/folders/ck/fdgds2ns7w3bfppbyfdv7x1m0000gn/T/ipykernel_59105/1594930208.py:3: SettingWithCopyWarning: \n",
      "A value is trying to be set on a copy of a slice from a DataFrame.\n",
      "Try using .loc[row_indexer,col_indexer] = value instead\n",
      "\n",
      "See the caveats in the documentation: https://pandas.pydata.org/pandas-docs/stable/user_guide/indexing.html#returning-a-view-versus-a-copy\n",
      "  funda_stock['qdate'] = funda_data.qdate.apply(lambda x:dt.datetime.strptime(x,'%m/%d/%Y'))\n",
      "/var/folders/ck/fdgds2ns7w3bfppbyfdv7x1m0000gn/T/ipykernel_59105/1594930208.py:3: SettingWithCopyWarning: \n",
      "A value is trying to be set on a copy of a slice from a DataFrame.\n",
      "Try using .loc[row_indexer,col_indexer] = value instead\n",
      "\n",
      "See the caveats in the documentation: https://pandas.pydata.org/pandas-docs/stable/user_guide/indexing.html#returning-a-view-versus-a-copy\n",
      "  funda_stock['qdate'] = funda_data.qdate.apply(lambda x:dt.datetime.strptime(x,'%m/%d/%Y'))\n",
      "/var/folders/ck/fdgds2ns7w3bfppbyfdv7x1m0000gn/T/ipykernel_59105/1594930208.py:3: SettingWithCopyWarning: \n",
      "A value is trying to be set on a copy of a slice from a DataFrame.\n",
      "Try using .loc[row_indexer,col_indexer] = value instead\n",
      "\n",
      "See the caveats in the documentation: https://pandas.pydata.org/pandas-docs/stable/user_guide/indexing.html#returning-a-view-versus-a-copy\n",
      "  funda_stock['qdate'] = funda_data.qdate.apply(lambda x:dt.datetime.strptime(x,'%m/%d/%Y'))\n",
      "/var/folders/ck/fdgds2ns7w3bfppbyfdv7x1m0000gn/T/ipykernel_59105/1594930208.py:3: SettingWithCopyWarning: \n",
      "A value is trying to be set on a copy of a slice from a DataFrame.\n",
      "Try using .loc[row_indexer,col_indexer] = value instead\n",
      "\n",
      "See the caveats in the documentation: https://pandas.pydata.org/pandas-docs/stable/user_guide/indexing.html#returning-a-view-versus-a-copy\n",
      "  funda_stock['qdate'] = funda_data.qdate.apply(lambda x:dt.datetime.strptime(x,'%m/%d/%Y'))\n",
      "/var/folders/ck/fdgds2ns7w3bfppbyfdv7x1m0000gn/T/ipykernel_59105/1594930208.py:3: SettingWithCopyWarning: \n",
      "A value is trying to be set on a copy of a slice from a DataFrame.\n",
      "Try using .loc[row_indexer,col_indexer] = value instead\n",
      "\n",
      "See the caveats in the documentation: https://pandas.pydata.org/pandas-docs/stable/user_guide/indexing.html#returning-a-view-versus-a-copy\n",
      "  funda_stock['qdate'] = funda_data.qdate.apply(lambda x:dt.datetime.strptime(x,'%m/%d/%Y'))\n"
     ]
    }
   ],
   "source": [
    "for name in pd.unique(funda_data.TICKER).tolist():\n",
    "    funda_stock = funda_data.loc[funda_data.TICKER==name,:]\n",
    "    funda_stock['qdate'] = funda_data.qdate.apply(lambda x:dt.datetime.strptime(x,'%m/%d/%Y'))\n",
    "    if name == 'FB':\n",
    "        name = 'META'\n",
    "    elif name == 'BRK':\n",
    "        name = 'BRK-B'\n",
    "    elif name == 'GOOGL':\n",
    "        name = 'GOOG'\n",
    "    merge_left(funda_stock,name,'Daily')\n",
    "    merge_left(funda_stock,name,'Weekly')\n",
    "    merge_left(funda_stock,name,'Monthly')\n",
    "\n"
   ]
  },
  {
   "attachments": {},
   "cell_type": "markdown",
   "metadata": {},
   "source": [
    "### Indicators Mergation"
   ]
  },
  {
   "cell_type": "code",
   "execution_count": 81,
   "metadata": {},
   "outputs": [],
   "source": [
    "#Can be used to make up time among two interval, but unuseful now\n",
    "\n",
    "\n",
    "# def make_up_time(df,freq):\n",
    "#     len = df.shape[0]\n",
    "#     print(len,df.shape)\n",
    "#     df.qdate = df.qdate.apply(lambda x: dt.datetime.strptime(x,'%m/%d/%Y'))\n",
    "#     original_time = df.qdate\n",
    "#     for i in range(1,len):\n",
    "#         cur = original_time.iloc[i]-dt.timedelta(days=1)\n",
    "#         last = original_time.iloc[i-1]+dt.timedelta(days=1)\n",
    "#         small_df = pd.DataFrame(columns=df.columns)\n",
    "#         if freq.lower() == 'daily':\n",
    "#             times_range = pd.date_range(last,cur,freq='D')\n",
    "            \n",
    "#         elif freq.lower() == 'monthly':\n",
    "#             times_range = pd.date_range(last,cur,freq='M')\n",
    "#         else:\n",
    "#             times_range = pd.date_range(last,cur,freq='W')\n",
    "\n",
    "#         small_df['qdate'] = times_range\n",
    "#         df = pd.concat([df,small_df])\n",
    "#         df.sort_values('qdate',inplace=True)\n",
    "#         df.fillna(method='backfill',inplace=True)\n",
    "#     return df"
   ]
  }
 ],
 "metadata": {
  "kernelspec": {
   "display_name": "Python 3.9.12 ('base')",
   "language": "python",
   "name": "python3"
  },
  "language_info": {
   "codemirror_mode": {
    "name": "ipython",
    "version": 3
   },
   "file_extension": ".py",
   "mimetype": "text/x-python",
   "name": "python",
   "nbconvert_exporter": "python",
   "pygments_lexer": "ipython3",
   "version": "3.11.0"
  },
  "orig_nbformat": 4,
  "vscode": {
   "interpreter": {
    "hash": "f5ca7f1e19f63aad61e7f105267048d1a47f29c947be0f4c6ffca5d2ac1d455d"
   }
  }
 },
 "nbformat": 4,
 "nbformat_minor": 2
}
