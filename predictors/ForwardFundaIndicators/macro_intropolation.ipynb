{
 "cells": [
  {
   "cell_type": "markdown",
   "metadata": {},
   "source": [
    "# Macroeconomic Data Intropolation:\n",
    "## Macroeconomic Indicators\n",
    "- REAL_GDP: annual data type \n",
    "- TREASURY_YIELD: short time(3-month: risk free rate)/ long time (30 years) \n",
    "- FEDERAL_FUNDS_RATE: Board of Governors of the Federal Reserve System (US), Federal Funds Effective Rate, retrieved from FRED, Federal Reserve Bank of St. Louis\n",
    "- CPI: monthly data \n",
    "- INFLATION: annual data \n",
    "- UNEMPLOYMENT: The unemployment rate represents the number of unemployed as a percentage of the labor force.  \n",
    "- NONFARM_PAYROLL: the monthly US All Employees, a measure of the number of U.S. workers in the economy that excludes proprietors, private household employees, unpaid volunteers, farm employees, and the unincorporated self-employed.\n",
    "## Intropolation\n",
    "- Motivation:<br/> \n",
    "  Macroeconomic data are Quarterly/Monthly data, if we use them to predict daily/weekly stock price, we need to fill the gap.\n",
    "- Method: <br/> \n",
    "  Macroeconomic data has seasonalities, we can implement seasonal decomposition on the data and seperate them into three components: Seasonal, trends and residuals. Then we can use Fourier Transformation to fit the seasonal components and intropolate with simulations, then combine the interpolated seasonal data into the backfilled trends(with residuals added back) to fill out the gap.\n"
   ]
  },
  {
   "cell_type": "markdown",
   "metadata": {},
   "source": [
    "## Implementation\n",
    "### Seasonal Decompose\n",
    "- Use **STL**, with can extract smooths estimates of the three components:trend, seasonality, and noise with LOESS(locally estimated scatterplot smoothing)\n",
    "- Fit Seasonalities with Fourier Series and simulated the daily data\n",
    "- add back backfilled trends(and noise) for the interpolated daily Data\n"
   ]
  },
  {
   "cell_type": "code",
   "execution_count": null,
   "metadata": {},
   "outputs": [],
   "source": []
  },
  {
   "cell_type": "markdown",
   "metadata": {},
   "source": []
  }
 ],
 "metadata": {
  "kernelspec": {
   "display_name": "Python 3.9.6 64-bit",
   "language": "python",
   "name": "python3"
  },
  "language_info": {
   "name": "python",
   "version": "3.9.6"
  },
  "orig_nbformat": 4,
  "vscode": {
   "interpreter": {
    "hash": "31f2aee4e71d21fbe5cf8b01ff0e069b9275f58929596ceb00d14d90e3e16cd6"
   }
  }
 },
 "nbformat": 4,
 "nbformat_minor": 2
}
