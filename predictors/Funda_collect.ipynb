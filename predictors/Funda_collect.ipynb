{
 "cells": [
  {
   "cell_type": "code",
   "execution_count": null,
   "metadata": {},
   "outputs": [],
   "source": [
    "import pandas as pd\n",
    "import numpy as np\n",
    "import datetime as dt\n",
    "import warnings\n",
    "import matplotlib.pyplot as plt\n",
    "import seaborn as sns\n",
    "warnings.filterwarnings('ignore')"
   ]
  },
  {
   "cell_type": "code",
   "execution_count": 14,
   "metadata": {},
   "outputs": [
    {
     "data": {
      "text/html": [
       "<div>\n",
       "<style scoped>\n",
       "    .dataframe tbody tr th:only-of-type {\n",
       "        vertical-align: middle;\n",
       "    }\n",
       "\n",
       "    .dataframe tbody tr th {\n",
       "        vertical-align: top;\n",
       "    }\n",
       "\n",
       "    .dataframe thead th {\n",
       "        text-align: right;\n",
       "    }\n",
       "</style>\n",
       "<table border=\"1\" class=\"dataframe\">\n",
       "  <thead>\n",
       "    <tr style=\"text-align: right;\">\n",
       "      <th></th>\n",
       "      <th>qdate</th>\n",
       "      <th>pcf</th>\n",
       "      <th>PEG_trailing</th>\n",
       "      <th>TICKER</th>\n",
       "    </tr>\n",
       "  </thead>\n",
       "  <tbody>\n",
       "    <tr>\n",
       "      <th>0</th>\n",
       "      <td>12/31/2009</td>\n",
       "      <td>11.996</td>\n",
       "      <td>0.910</td>\n",
       "      <td>MSFT</td>\n",
       "    </tr>\n",
       "    <tr>\n",
       "      <th>1</th>\n",
       "      <td>12/31/2009</td>\n",
       "      <td>12.243</td>\n",
       "      <td>0.930</td>\n",
       "      <td>MSFT</td>\n",
       "    </tr>\n",
       "    <tr>\n",
       "      <th>2</th>\n",
       "      <td>12/31/2009</td>\n",
       "      <td>12.767</td>\n",
       "      <td>0.970</td>\n",
       "      <td>MSFT</td>\n",
       "    </tr>\n",
       "    <tr>\n",
       "      <th>3</th>\n",
       "      <td>03/31/2010</td>\n",
       "      <td>10.135</td>\n",
       "      <td>1.119</td>\n",
       "      <td>MSFT</td>\n",
       "    </tr>\n",
       "    <tr>\n",
       "      <th>4</th>\n",
       "      <td>03/31/2010</td>\n",
       "      <td>8.925</td>\n",
       "      <td>0.998</td>\n",
       "      <td>MSFT</td>\n",
       "    </tr>\n",
       "    <tr>\n",
       "      <th>...</th>\n",
       "      <td>...</td>\n",
       "      <td>...</td>\n",
       "      <td>...</td>\n",
       "      <td>...</td>\n",
       "    </tr>\n",
       "    <tr>\n",
       "      <th>1160</th>\n",
       "      <td>06/30/2019</td>\n",
       "      <td>15.214</td>\n",
       "      <td>-0.102</td>\n",
       "      <td>TSLA</td>\n",
       "    </tr>\n",
       "    <tr>\n",
       "      <th>1161</th>\n",
       "      <td>06/30/2019</td>\n",
       "      <td>19.918</td>\n",
       "      <td>-0.133</td>\n",
       "      <td>TSLA</td>\n",
       "    </tr>\n",
       "    <tr>\n",
       "      <th>1162</th>\n",
       "      <td>09/30/2019</td>\n",
       "      <td>26.854</td>\n",
       "      <td>-5.117</td>\n",
       "      <td>TSLA</td>\n",
       "    </tr>\n",
       "    <tr>\n",
       "      <th>1163</th>\n",
       "      <td>09/30/2019</td>\n",
       "      <td>34.203</td>\n",
       "      <td>-6.488</td>\n",
       "      <td>TSLA</td>\n",
       "    </tr>\n",
       "    <tr>\n",
       "      <th>1164</th>\n",
       "      <td>09/30/2019</td>\n",
       "      <td>53.190</td>\n",
       "      <td>-9.945</td>\n",
       "      <td>TSLA</td>\n",
       "    </tr>\n",
       "  </tbody>\n",
       "</table>\n",
       "<p>1165 rows × 4 columns</p>\n",
       "</div>"
      ],
      "text/plain": [
       "           qdate     pcf  PEG_trailing TICKER\n",
       "0     12/31/2009  11.996         0.910   MSFT\n",
       "1     12/31/2009  12.243         0.930   MSFT\n",
       "2     12/31/2009  12.767         0.970   MSFT\n",
       "3     03/31/2010  10.135         1.119   MSFT\n",
       "4     03/31/2010   8.925         0.998   MSFT\n",
       "...          ...     ...           ...    ...\n",
       "1160  06/30/2019  15.214        -0.102   TSLA\n",
       "1161  06/30/2019  19.918        -0.133   TSLA\n",
       "1162  09/30/2019  26.854        -5.117   TSLA\n",
       "1163  09/30/2019  34.203        -6.488   TSLA\n",
       "1164  09/30/2019  53.190        -9.945   TSLA\n",
       "\n",
       "[1165 rows x 4 columns]"
      ]
     },
     "execution_count": 14,
     "metadata": {},
     "output_type": "execute_result"
    }
   ],
   "source": [
    "funda_data = pd.read_csv('Fundamental_data.csv')\n",
    "flow_data = funda_data.loc[:,['qdate','pcf','PEG_trailing','TICKER']]\n",
    "funda_data = funda_data.drop(columns=['public_date',\"pcf\",'staff_sale','PEG_trailing','gvkey','permno','adate'])\n",
    "funda_data = funda_data.drop_duplicates()\n",
    "stock_list = ['AAPL','AMZN','BRK-B','GOOG','JNJ','META','MSFT','NVDA','TSLA','V']"
   ]
  },
  {
   "cell_type": "code",
   "execution_count": null,
   "metadata": {},
   "outputs": [],
   "source": [
    "for s in stock_list:\n",
    "    funda_stock = funda_data.loc[funda_data.TICKER == s,:]\n",
    "    funda_stock['qdate'] = funda_data.qdate.apply(lambda x:dt.datetime.strptime(x,'%m/%d/%Y'))\n",
    "    funda_stock.set_index('qdate')\n",
    "    sns.heatmap(funda_data.corr().fillna(0))\n",
    "    plt.title(s)\n",
    "    plt.show()"
   ]
  },
  {
   "cell_type": "code",
   "execution_count": null,
   "metadata": {},
   "outputs": [],
   "source": [
    "for s in stock_list:\n",
    "    flow_stock = flow_data.loc[flow_data.TICKER == s,:]\n",
    "    flow_stock['qdate'] = flow_stock.qdate.apply(lambda x:dt.datetime.strptime(x,'%m/%d/%Y'))\n",
    "    flow_stock.set_index('qdate')\n",
    "    print(flow_stock.corr().fillna(0))\n",
    "    sns.heatmap(flow_stock.corr().fillna(0))\n",
    "    plt.title(s)\n",
    "    plt.show()"
   ]
  },
  {
   "cell_type": "code",
   "execution_count": 27,
   "metadata": {},
   "outputs": [],
   "source": [
    "def merge_left(funda_stock,name,flow_data,freq):\n",
    "    price = pd.read_csv('../stock_price/'+freq+'/'+name+'.csv')\n",
    "    price['Date'] = price.Date.apply(lambda x: dt.datetime.strptime(x,'%Y-%m-%d'))\n",
    "    close = price.loc[:,['Date']]\n",
    "    df = pd.merge(funda_stock,close,how='right',left_on=['qdate'],right_on=['Date'])\n",
    "    df = pd.merge(flow_data,df,how='right',left_on=['qdate'],right_on=['Date'])\n",
    "# Here we merge the dataset together using the forward filling method, which is using the old time data to fill the later time.\n",
    "    df.fillna(method='ffill',inplace=True)\n",
    "    df.set_index('Date',inplace=True)\n",
    "    df.drop(columns=['qdate_x','qdate_y','TICKER_y','TICKER_x'],inplace=True)\n",
    "    df.dropna(inplace=True,how='all')\n",
    "    df.to_csv('FundaIndicators/'+freq+'/'+name+'.csv')"
   ]
  },
  {
   "cell_type": "code",
   "execution_count": 28,
   "metadata": {},
   "outputs": [],
   "source": [
    "for name in pd.unique(funda_data.TICKER).tolist():\n",
    "    funda_stock = funda_data.loc[funda_data.TICKER==name,:]\n",
    "    funda_stock['qdate'] = funda_data.qdate.apply(lambda x:dt.datetime.strptime(x,'%m/%d/%Y'))\n",
    "    flow_stock = flow_data.loc[flow_data.TICKER==name,:]\n",
    "    flow_stock['qdate'] = flow_stock.qdate.apply(lambda x:dt.datetime.strptime(x,'%m/%d/%Y'))\n",
    "    if name == 'FB':\n",
    "        name = 'META'\n",
    "    elif name == 'BRK':\n",
    "        name = 'BRK-B'\n",
    "    elif name == 'GOOGL':\n",
    "        name = 'GOOG'\n",
    "    merge_left(funda_stock,name,flow_stock,'Daily')\n",
    "    merge_left(funda_stock,name,flow_stock,'Weekly')\n",
    "    merge_left(funda_stock,name,flow_stock,'Monthly')"
   ]
  },
  {
   "cell_type": "code",
   "execution_count": null,
   "metadata": {},
   "outputs": [],
   "source": [
    "freq = 'Daily'\n",
    "\n",
    "for name in stock_list:\n",
    "    FundaInd = pd.read_csv('FundaIndicators/'+freq+'/'+name+'.csv')\n",
    "    sns.heatmap(FundaInd.corr().fillna(0))\n",
    "    plt.title(name)\n",
    "    plt.show()"
   ]
  },
  {
   "cell_type": "code",
   "execution_count": null,
   "metadata": {},
   "outputs": [],
   "source": [
    "freq = 'Weekly'\n",
    "\n",
    "for name in stock_list:\n",
    "    FundaInd = pd.read_csv('FundaIndicators/'+freq+'/'+name+'.csv')\n",
    "    sns.heatmap(FundaInd.corr().fillna(0))\n",
    "    plt.title(name)\n",
    "    plt.show()\n",
    "\n"
   ]
  },
  {
   "cell_type": "code",
   "execution_count": null,
   "metadata": {},
   "outputs": [],
   "source": [
    "freq = 'Monthly'\n",
    "\n",
    "for name in stock_list:\n",
    "    FundaInd = pd.read_csv('FundaIndicators/'+freq+'/'+name+'.csv')\n",
    "    sns.heatmap(FundaInd.corr().fillna(0))\n",
    "    plt.title(name)\n",
    "    plt.show()"
   ]
  },
  {
   "cell_type": "code",
   "execution_count": null,
   "metadata": {},
   "outputs": [],
   "source": []
  }
 ],
 "metadata": {
  "kernelspec": {
   "display_name": "Python 3.9.12 ('base')",
   "language": "python",
   "name": "python3"
  },
  "language_info": {
   "codemirror_mode": {
    "name": "ipython",
    "version": 3
   },
   "file_extension": ".py",
   "mimetype": "text/x-python",
   "name": "python",
   "nbconvert_exporter": "python",
   "pygments_lexer": "ipython3",
   "version": "3.9.12"
  },
  "orig_nbformat": 4,
  "vscode": {
   "interpreter": {
    "hash": "f5ca7f1e19f63aad61e7f105267048d1a47f29c947be0f4c6ffca5d2ac1d455d"
   }
  }
 },
 "nbformat": 4,
 "nbformat_minor": 2
}
