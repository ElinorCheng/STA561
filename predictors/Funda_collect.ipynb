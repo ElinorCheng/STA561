{
 "cells": [
  {
   "cell_type": "code",
   "execution_count": 1,
   "metadata": {},
   "outputs": [],
   "source": [
    "import pandas as pd\n",
    "import numpy as np\n",
    "import datetime as dt"
   ]
  },
  {
   "cell_type": "code",
   "execution_count": 2,
   "metadata": {},
   "outputs": [],
   "source": [
    "funda_data = pd.read_csv('Fundamental_data.csv')\n",
    "funda_data.columns\n",
    "funda_data = funda_data.drop(columns=['public_date',\"pcf\",'staff_sale','PEG_trailing','gvkey','permno','adate'])\n",
    "funda_data = funda_data.drop_duplicates()"
   ]
  },
  {
   "cell_type": "code",
   "execution_count": 21,
   "metadata": {},
   "outputs": [],
   "source": [
    "def merge_left(funda_stock,name,freq):\n",
    "    price = pd.read_csv('../stock_price/'+freq+'/'+name+'.csv')\n",
    "    price['Date'] = price.Date.apply(lambda x: dt.datetime.strptime(x,'%Y-%m-%d'))\n",
    "    close = price.loc[:,['Date']]\n",
    "    df = pd.merge(funda_stock,close,how='right',left_on=['qdate'],right_on=['Date'])\n",
    "    df.fillna(method='ffill',inplace=True)\n",
    "    df.set_index('Date',inplace=True)\n",
    "    df.drop(columns=['qdate','TICKER'],inplace=True)\n",
    "    df.dropna(inplace=True,how='all')\n",
    "    \n",
    "    df.to_csv('FundaIndicators/'+freq+'/'+name+'.csv')"
   ]
  },
  {
   "cell_type": "code",
   "execution_count": null,
   "metadata": {},
   "outputs": [],
   "source": [
    "for name in pd.unique(funda_data.TICKER).tolist():\n",
    "    funda_stock = funda_data.loc[funda_data.TICKER==name,:]\n",
    "    funda_stock['qdate'] = funda_data.qdate.apply(lambda x:dt.datetime.strptime(x,'%m/%d/%Y'))\n",
    "    if name == 'FB':\n",
    "        name = 'META'\n",
    "    elif name == 'BRK':\n",
    "        name = 'BRK-B'\n",
    "    elif name == 'GOOGL':\n",
    "        name = 'GOOG'\n",
    "    merge_left(funda_stock,name,'Daily')\n",
    "    merge_left(funda_stock,name,'Weekly')\n",
    "    merge_left(funda_stock,name,'Monthly')\n",
    "    funda_stock = funda_data.loc[funda_data['TICKER'] == name,:]"
   ]
  }
 ],
 "metadata": {
  "kernelspec": {
   "display_name": "Python 3.9.12 ('base')",
   "language": "python",
   "name": "python3"
  },
  "language_info": {
   "codemirror_mode": {
    "name": "ipython",
    "version": 3
   },
   "file_extension": ".py",
   "mimetype": "text/x-python",
   "name": "python",
   "nbconvert_exporter": "python",
   "pygments_lexer": "ipython3",
   "version": "3.9.12"
  },
  "orig_nbformat": 4,
  "vscode": {
   "interpreter": {
    "hash": "f5ca7f1e19f63aad61e7f105267048d1a47f29c947be0f4c6ffca5d2ac1d455d"
   }
  }
 },
 "nbformat": 4,
 "nbformat_minor": 2
}
