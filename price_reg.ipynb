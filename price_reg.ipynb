{
 "cells": [
  {
   "cell_type": "code",
   "execution_count": 10,
   "metadata": {},
   "outputs": [],
   "source": [
    "import config\n",
    "import requests\n",
    "import datetime as dt\n",
    "import json\n",
    "from datetime import datetime as dt, date\n",
    "from dateutil.relativedelta import relativedelta\n",
    "import pandas as pd\n",
    "import requests\n",
    "import os\n",
    "import sys\n",
    "\n",
    "symbol_list = ['AAPL','MSFT','GOOG','AMZN','NVDA','BRK-B','TSLA','META','JNJ','V']"
   ]
  },
  {
   "cell_type": "code",
   "execution_count": 16,
   "metadata": {},
   "outputs": [],
   "source": [
    "df_daily = {}\n",
    "for symbol in symbol_list:\n",
    "    df_daily[symbol] = pd.read_csv(\"./stock_price/daily/\" + symbol + \".csv\")\n",
    "\n",
    "for symbol in symbol_list:\n",
    "    df_daily[symbol]['Date'] = pd.to_datetime(df_daily[symbol]['Date'], format='%Y-%m-%d')\n",
    "    df_daily[symbol]['diff'] = df_daily[symbol]['5. adjusted close'] - df_daily[symbol]['5. adjusted close'].shift(1)\n",
    "    df_daily[symbol]['direction'] = df_daily[symbol]['diff'].apply(lambda x: 1 if x < 0 else 0)\n",
    "    df_daily[symbol] = df_daily[symbol][['Date','5. adjusted close','6. volume', 'direction']]\n",
    "    df_daily[symbol]['Symbol'] = symbol\n",
    "\n",
    "union_daily = pd.concat([df_daily[symbol] for symbol in symbol_list])\n",
    "union_daily = union_daily.sort_values(by=['Symbol','Date'])"
   ]
  },
  {
   "cell_type": "code",
   "execution_count": 17,
   "metadata": {},
   "outputs": [],
   "source": [
    "df_monthly = {}\n",
    "for symbol in symbol_list:\n",
    "    df_monthly[symbol] = pd.read_csv(\"./stock_price/monthly/\" + symbol + \".csv\")\n",
    "\n",
    "for symbol in symbol_list:\n",
    "    df_monthly[symbol]['Date'] = pd.to_datetime(df_monthly[symbol]['Date'], format='%Y-%m-%d')\n",
    "    df_monthly[symbol]['diff'] = df_monthly[symbol]['5. adjusted close'] - df_monthly[symbol]['5. adjusted close'].shift(1)\n",
    "    df_monthly[symbol]['direction'] = df_monthly[symbol]['diff'].apply(lambda x: 1 if x < 0 else 0)\n",
    "    df_monthly[symbol] = df_monthly[symbol][['Date','5. adjusted close','6. volume', 'direction']]\n",
    "    df_monthly[symbol]['Symbol'] = symbol\n",
    "\n",
    "union_monthly = pd.concat([df_monthly[symbol] for symbol in symbol_list])\n",
    "union_monthly = union_monthly.sort_values(by=['Symbol','Date'])"
   ]
  },
  {
   "cell_type": "code",
   "execution_count": 18,
   "metadata": {},
   "outputs": [],
   "source": [
    "df_weekly = {}\n",
    "for symbol in symbol_list:\n",
    "    df_monthly[symbol] = pd.read_csv(\"./stock_price/monthly/\" + symbol + \".csv\")\n",
    "\n",
    "for symbol in symbol_list:\n",
    "    df_monthly[symbol]['Date'] = pd.to_datetime(df_monthly[symbol]['Date'], format='%Y-%m-%d')\n",
    "    df_monthly[symbol]['diff'] = df_monthly[symbol]['5. adjusted close'] - df_monthly[symbol]['5. adjusted close'].shift(1)\n",
    "    df_monthly[symbol]['direction'] = df_monthly[symbol]['diff'].apply(lambda x: 1 if x < 0 else 0)\n",
    "    df_monthly[symbol] = df_monthly[symbol][['Date','5. adjusted close','6. volume', 'direction']]\n",
    "    df_monthly[symbol]['Symbol'] = symbol\n",
    "\n",
    "union_monthly = pd.concat([df_monthly[symbol] for symbol in symbol_list])\n",
    "union_monthly = union_monthly.sort_values(by=['Symbol','Date'])"
   ]
  },
  {
   "cell_type": "code",
   "execution_count": 20,
   "metadata": {},
   "outputs": [
    {
     "ename": "KeyError",
     "evalue": "'V'",
     "output_type": "error",
     "traceback": [
      "\u001b[0;31m---------------------------------------------------------------------------\u001b[0m",
      "\u001b[0;31mKeyError\u001b[0m                                  Traceback (most recent call last)",
      "\u001b[1;32m/Users/DELL/Duke/STA561/project/price_reg.ipynb Cell 5\u001b[0m in \u001b[0;36m<cell line: 7>\u001b[0;34m()\u001b[0m\n\u001b[1;32m      <a href='vscode-notebook-cell:/Users/DELL/Duke/STA561/project/price_reg.ipynb#W4sZmlsZQ%3D%3D?line=8'>9</a>\u001b[0m stock_daily \u001b[39m=\u001b[39m df_daily[symbol]\n\u001b[1;32m     <a href='vscode-notebook-cell:/Users/DELL/Duke/STA561/project/price_reg.ipynb#W4sZmlsZQ%3D%3D?line=9'>10</a>\u001b[0m stock_daily\u001b[39m.\u001b[39mto_csv(\u001b[39m\"\u001b[39m\u001b[39mDaily\u001b[39m\u001b[39m\\\\\u001b[39;00m\u001b[39m\"\u001b[39m\u001b[39m+\u001b[39mstock\u001b[39m+\u001b[39m\u001b[39m'\u001b[39m\u001b[39m.csv\u001b[39m\u001b[39m'\u001b[39m,index\u001b[39m=\u001b[39m\u001b[39m0\u001b[39m)\n\u001b[0;32m---> <a href='vscode-notebook-cell:/Users/DELL/Duke/STA561/project/price_reg.ipynb#W4sZmlsZQ%3D%3D?line=10'>11</a>\u001b[0m stock_weekly \u001b[39m=\u001b[39m df_weekly[symbol]\n\u001b[1;32m     <a href='vscode-notebook-cell:/Users/DELL/Duke/STA561/project/price_reg.ipynb#W4sZmlsZQ%3D%3D?line=11'>12</a>\u001b[0m stock_weekly\u001b[39m.\u001b[39mto_csv(\u001b[39m\"\u001b[39m\u001b[39mWeekly\u001b[39m\u001b[39m\\\\\u001b[39;00m\u001b[39m\"\u001b[39m\u001b[39m+\u001b[39mstock\u001b[39m+\u001b[39m\u001b[39m'\u001b[39m\u001b[39m.csv\u001b[39m\u001b[39m'\u001b[39m,index\u001b[39m=\u001b[39m\u001b[39m0\u001b[39m)\n\u001b[1;32m     <a href='vscode-notebook-cell:/Users/DELL/Duke/STA561/project/price_reg.ipynb#W4sZmlsZQ%3D%3D?line=12'>13</a>\u001b[0m stock_monthly \u001b[39m=\u001b[39m df_monthly[symbol]\n",
      "\u001b[0;31mKeyError\u001b[0m: 'V'"
     ]
    }
   ],
   "source": [
    "if not os.path.isdir(\"Daily\"):\n",
    "    os.mkdir(\"Daily\")\n",
    "if not os.path.isdir(\"Weekly\"):\n",
    "    os.mkdir(\"Weekly\")\n",
    "if not os.path.isdir(\"Monthly\"):\n",
    "    os.mkdir(\"Monthly\")\n",
    "for stock in symbol_list:\n",
    "    stock_daily = df_daily[symbol]\n",
    "    stock_daily.to_csv(\"Daily/\"+stock+'.csv',index=0)\n",
    "    stock_weekly = df_weekly[symbol]\n",
    "    stock_weekly.to_csv(\"Weekly/\"+stock+'.csv',index=0)\n",
    "    stock_monthly = df_monthly[symbol]\n",
    "    stock_monthly.to_csv(\"Monthly/\"+stock+'.csv',index=0)"
   ]
  },
  {
   "cell_type": "code",
   "execution_count": null,
   "metadata": {},
   "outputs": [],
   "source": []
  }
 ],
 "metadata": {
  "kernelspec": {
   "display_name": "Python 3.9.12 ('base')",
   "language": "python",
   "name": "python3"
  },
  "language_info": {
   "codemirror_mode": {
    "name": "ipython",
    "version": 3
   },
   "file_extension": ".py",
   "mimetype": "text/x-python",
   "name": "python",
   "nbconvert_exporter": "python",
   "pygments_lexer": "ipython3",
   "version": "3.9.12"
  },
  "orig_nbformat": 4,
  "vscode": {
   "interpreter": {
    "hash": "f5ca7f1e19f63aad61e7f105267048d1a47f29c947be0f4c6ffca5d2ac1d455d"
   }
  }
 },
 "nbformat": 4,
 "nbformat_minor": 2
}
