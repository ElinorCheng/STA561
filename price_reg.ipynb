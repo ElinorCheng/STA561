{
 "cells": [
  {
   "cell_type": "code",
   "execution_count": 1,
   "metadata": {},
   "outputs": [],
   "source": [
    "import config\n",
    "import requests\n",
    "import datetime as dt\n",
    "import json\n",
    "from datetime import datetime as dt, date\n",
    "from dateutil.relativedelta import relativedelta\n",
    "import pandas as pd\n",
    "import requests\n",
    "import os\n",
    "import sys\n",
    "\n",
    "symbol_list = ['AAPL','MSFT','GOOG','AMZN','NVDA','BRK-B','TSLA','META','JNJ','V']"
   ]
  },
  {
   "cell_type": "code",
   "execution_count": 7,
   "metadata": {},
   "outputs": [],
   "source": [
    "df_daily = {}\n",
    "for symbol in symbol_list:\n",
    "    df_daily[symbol] = pd.read_csv(\"./stock_price/daily/\" + symbol + \".csv\")\n",
    "\n",
    "for symbol in symbol_list:\n",
    "    df_daily[symbol]['Date'] = pd.to_datetime(df_daily[symbol]['Date'], format='%Y-%m-%d')\n",
    "    df_daily[symbol]['diff'] = df_daily[symbol]['5. adjusted close'] - df_daily[symbol]['5. adjusted close'].shift(1)\n",
    "    df_daily[symbol]['direction'] = df_daily[symbol]['diff'].apply(lambda x: 1 if x < 0 else 0)\n",
    "    df_daily[symbol] = df_daily[symbol][['Date','5. adjusted close','6. volume', 'direction']]\n",
    "    df_daily[symbol]['Symbol'] = symbol\n",
    "\n",
    "union_daily = pd.concat([df_daily[symbol] for symbol in symbol_list])\n",
    "union_daily = union_daily.sort_values(by=['Symbol','Date'])"
   ]
  },
  {
   "cell_type": "code",
   "execution_count": 8,
   "metadata": {},
   "outputs": [],
   "source": [
    "df_monthly = {}\n",
    "for symbol in symbol_list:\n",
    "    df_monthly[symbol] = pd.read_csv(\"./stock_price/monthly/\" + symbol + \".csv\")\n",
    "\n",
    "for symbol in symbol_list:\n",
    "    df_monthly[symbol]['Date'] = pd.to_datetime(df_monthly[symbol]['Date'], format='%Y-%m-%d')\n",
    "    df_monthly[symbol]['diff'] = df_monthly[symbol]['5. adjusted close'] - df_monthly[symbol]['5. adjusted close'].shift(1)\n",
    "    df_monthly[symbol]['direction'] = df_monthly[symbol]['diff'].apply(lambda x: 1 if x < 0 else 0)\n",
    "    df_monthly[symbol] = df_monthly[symbol][['Date','5. adjusted close','6. volume', 'direction']]\n",
    "    df_monthly[symbol]['Symbol'] = symbol\n",
    "\n",
    "union_monthly = pd.concat([df_monthly[symbol] for symbol in symbol_list])\n",
    "union_monthly = union_monthly.sort_values(by=['Symbol','Date'])"
   ]
  },
  {
   "cell_type": "code",
   "execution_count": 9,
   "metadata": {},
   "outputs": [],
   "source": [
    "df_weekly = {}\n",
    "for symbol in symbol_list:\n",
    "    df_weekly[symbol] = pd.read_csv(\"./stock_price/monthly/\" + symbol + \".csv\")\n",
    "\n",
    "for symbol in symbol_list:\n",
    "    df_weekly[symbol]['Date'] = pd.to_datetime(df_weekly[symbol]['Date'], format='%Y-%m-%d')\n",
    "    df_weekly[symbol]['diff'] = df_weekly[symbol]['5. adjusted close'] - df_weekly[symbol]['5. adjusted close'].shift(1)\n",
    "    df_weekly[symbol]['direction'] = df_weekly[symbol]['diff'].apply(lambda x: 1 if x < 0 else 0)\n",
    "    df_weekly[symbol] = df_weekly[symbol][['Date','5. adjusted close','6. volume', 'direction']]\n",
    "    df_weekly[symbol]['Symbol'] = symbol\n",
    "\n",
    "union_monthly = pd.concat([df_weekly[symbol] for symbol in symbol_list])\n",
    "union_monthly = union_monthly.sort_values(by=['Symbol','Date'])"
   ]
  },
  {
   "cell_type": "code",
   "execution_count": 10,
   "metadata": {},
   "outputs": [],
   "source": [
    "if not os.path.isdir(\"Daily\"):\n",
    "    os.mkdir(\"Daily\")\n",
    "if not os.path.isdir(\"Weekly\"):\n",
    "    os.mkdir(\"Weekly\")\n",
    "if not os.path.isdir(\"Monthly\"):\n",
    "    os.mkdir(\"Monthly\")\n",
    "\n",
    "for symbol in symbol_list:\n",
    "    stock_daily = df_daily[symbol]\n",
    "    stock_daily.to_csv(\"Daily/\"+symbol+'.csv',index=0)\n",
    "    stock_weekly = df_weekly[symbol]\n",
    "    stock_weekly.to_csv(\"Weekly/\"+symbol+'.csv',index=0)\n",
    "    stock_monthly = df_monthly[symbol]\n",
    "    stock_monthly.to_csv(\"Monthly/\"+symbol+'.csv',index=0)"
   ]
  },
  {
   "cell_type": "code",
   "execution_count": null,
   "metadata": {},
   "outputs": [],
   "source": []
  }
 ],
 "metadata": {
  "kernelspec": {
   "display_name": "Python 3.9.12 ('base')",
   "language": "python",
   "name": "python3"
  },
  "language_info": {
   "codemirror_mode": {
    "name": "ipython",
    "version": 3
   },
   "file_extension": ".py",
   "mimetype": "text/x-python",
   "name": "python",
   "nbconvert_exporter": "python",
   "pygments_lexer": "ipython3",
   "version": "3.10.6"
  },
  "orig_nbformat": 4,
  "vscode": {
   "interpreter": {
    "hash": "f5ca7f1e19f63aad61e7f105267048d1a47f29c947be0f4c6ffca5d2ac1d455d"
   }
  }
 },
 "nbformat": 4,
 "nbformat_minor": 2
}
